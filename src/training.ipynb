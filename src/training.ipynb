{
 "cells": [
  {
   "cell_type": "markdown",
   "metadata": {},
   "source": [
    "## **Training the model**"
   ]
  },
  {
   "cell_type": "code",
   "execution_count": 1,
   "metadata": {},
   "outputs": [
    {
     "name": "stderr",
     "output_type": "stream",
     "text": [
      "C:\\Users\\Administrator\\AppData\\Local\\Packages\\PythonSoftwareFoundation.Python.3.11_qbz5n2kfra8p0\\LocalCache\\local-packages\\Python311\\site-packages\\tqdm\\auto.py:21: TqdmWarning: IProgress not found. Please update jupyter and ipywidgets. See https://ipywidgets.readthedocs.io/en/stable/user_install.html\n",
      "  from .autonotebook import tqdm as notebook_tqdm\n"
     ]
    }
   ],
   "source": [
    "import os\n",
    "import sys \n",
    "import pandas as pd\n",
    "import numpy as np\n",
    "import cv2\n",
    "from torchvision.io import read_image\n",
    "import matplotlib.pyplot as plt\n",
    "from torch.utils.data import Dataset, random_split, DataLoader\n",
    "\n",
    "from torchvision.transforms import ToTensor\n",
    "from PIL import Image\n",
    "\n",
    "import torch\n",
    "import torch.nn as nn\n",
    "import torch.optim as optim\n",
    "import torchvision \n",
    "from torchvision import transforms\n",
    "import timm\n",
    "import segmentation_models_pytorch as smp\n",
    "import wandb\n",
    "from tqdm import tqdm\n",
    "\n",
    "from dataset import *\n",
    "\n",
    "sys.path.append('/'.join(os.getcwd().split('\\\\')[:2]) + '/utils')\n",
    "from log import *\n",
    "\n",
    "from model import unet_model \n",
    "from train import *\n",
    "from mask2rgb import * \n",
    "from mask2string import *"
   ]
  },
  {
   "cell_type": "code",
   "execution_count": 2,
   "metadata": {},
   "outputs": [
    {
     "data": {
      "text/plain": [
       "device(type='cuda')"
      ]
     },
     "execution_count": 2,
     "metadata": {},
     "output_type": "execute_result"
    }
   ],
   "source": [
    "device = torch.device(\"cuda\" if torch.cuda.is_available() else \"cpu\")\n",
    "device"
   ]
  },
  {
   "cell_type": "code",
   "execution_count": 3,
   "metadata": {},
   "outputs": [
    {
     "data": {
      "text/plain": [
       "1000"
      ]
     },
     "execution_count": 3,
     "metadata": {},
     "output_type": "execute_result"
    }
   ],
   "source": [
    "train_images_path = []\n",
    "for root, dirs, files in os.walk(TRAIN_IMAGES_DIR):\n",
    "    for file in files:\n",
    "        path = os.path.join(root,file)\n",
    "        train_images_path.append(path)\n",
    "        \n",
    "len(train_images_path)"
   ]
  },
  {
   "cell_type": "code",
   "execution_count": 4,
   "metadata": {},
   "outputs": [
    {
     "data": {
      "text/plain": [
       "1000"
      ]
     },
     "execution_count": 4,
     "metadata": {},
     "output_type": "execute_result"
    }
   ],
   "source": [
    "train_masks_path = []\n",
    "for root, dirs, files in os.walk(TRAIN_MASKS_DIR):\n",
    "    for file in files:\n",
    "        path = os.path.join(root,file)\n",
    "        train_masks_path.append(path)\n",
    "        \n",
    "len(train_masks_path)"
   ]
  },
  {
   "cell_type": "code",
   "execution_count": 5,
   "metadata": {},
   "outputs": [],
   "source": [
    "dataset = NeoPolypDataset(\n",
    "    img_dir=TRAIN_IMAGES_DIR, \n",
    "    label_dir=TRAIN_MASKS_DIR, \n",
    "    resize=(256, 256), \n",
    "    transform=None\n",
    "    )"
   ]
  },
  {
   "cell_type": "code",
   "execution_count": 6,
   "metadata": {},
   "outputs": [],
   "source": [
    "images_data = []\n",
    "labels_data = []\n",
    "for x,y in dataset:\n",
    "    images_data.append(x)\n",
    "    labels_data.append(y)"
   ]
  },
  {
   "cell_type": "code",
   "execution_count": 7,
   "metadata": {},
   "outputs": [],
   "source": [
    "model = unet_model\n",
    "optimizer = optim.Adam(model.parameters(), lr=LEARNING_RATE)"
   ]
  },
  {
   "cell_type": "code",
   "execution_count": 8,
   "metadata": {},
   "outputs": [],
   "source": [
    "train_size = int(TRAIN_RATIO * len(images_data))\n",
    "val_size = len(images_data) - train_size\n",
    "train_dataset = CustomDataset(images_data[:train_size], labels_data[:train_size], transform=train_transformation)\n",
    "val_dataset = CustomDataset(images_data[train_size:], labels_data[train_size:], transform=val_transformation)\n",
    "\n",
    "train_loader = DataLoader(train_dataset, batch_size=BATCHSIZE, shuffle=True)\n",
    "val_loader = DataLoader(val_dataset, batch_size=BATCHSIZE, shuffle=True)"
   ]
  },
  {
   "cell_type": "code",
   "execution_count": 9,
   "metadata": {},
   "outputs": [
    {
     "name": "stderr",
     "output_type": "stream",
     "text": [
      "\u001b[34m\u001b[1mwandb\u001b[0m: Using wandb-core as the SDK backend.  Please refer to https://wandb.me/wandb-core for more information.\n",
      "\u001b[34m\u001b[1mwandb\u001b[0m: Currently logged in as: \u001b[33mfisherman611\u001b[0m (\u001b[33mfisherman611-hanoi-university-of-science-and-technology\u001b[0m). Use \u001b[1m`wandb login --relogin`\u001b[0m to force relogin\n",
      "\u001b[34m\u001b[1mwandb\u001b[0m: \u001b[33mWARNING\u001b[0m If you're specifying your api key in code, ensure this code is not shared publicly.\n",
      "\u001b[34m\u001b[1mwandb\u001b[0m: \u001b[33mWARNING\u001b[0m Consider setting the WANDB_API_KEY environment variable, or running `wandb login` from the command line.\n",
      "\u001b[34m\u001b[1mwandb\u001b[0m: Appending key for api.wandb.ai to your netrc file: C:\\Users\\Administrator\\_netrc\n"
     ]
    },
    {
     "data": {
      "text/html": [
       "Tracking run with wandb version 0.18.7"
      ],
      "text/plain": [
       "<IPython.core.display.HTML object>"
      ]
     },
     "metadata": {},
     "output_type": "display_data"
    },
    {
     "data": {
      "text/html": [
       "Run data is saved locally in <code>d:\\UNet-for-Colonoscopy-Polyp-Segmentation\\src\\wandb\\run-20241124_133605-5j1kb6qe</code>"
      ],
      "text/plain": [
       "<IPython.core.display.HTML object>"
      ]
     },
     "metadata": {},
     "output_type": "display_data"
    },
    {
     "data": {
      "text/html": [
       "Syncing run <strong><a href='https://wandb.ai/fisherman611-hanoi-university-of-science-and-technology/UNet%20for%20Colonoscopy%20Polyp%20Segmentation/runs/5j1kb6qe' target=\"_blank\">unet-resnet152</a></strong> to <a href='https://wandb.ai/fisherman611-hanoi-university-of-science-and-technology/UNet%20for%20Colonoscopy%20Polyp%20Segmentation' target=\"_blank\">Weights & Biases</a> (<a href='https://wandb.me/developer-guide' target=\"_blank\">docs</a>)<br/>"
      ],
      "text/plain": [
       "<IPython.core.display.HTML object>"
      ]
     },
     "metadata": {},
     "output_type": "display_data"
    },
    {
     "data": {
      "text/html": [
       " View project at <a href='https://wandb.ai/fisherman611-hanoi-university-of-science-and-technology/UNet%20for%20Colonoscopy%20Polyp%20Segmentation' target=\"_blank\">https://wandb.ai/fisherman611-hanoi-university-of-science-and-technology/UNet%20for%20Colonoscopy%20Polyp%20Segmentation</a>"
      ],
      "text/plain": [
       "<IPython.core.display.HTML object>"
      ]
     },
     "metadata": {},
     "output_type": "display_data"
    },
    {
     "data": {
      "text/html": [
       " View run at <a href='https://wandb.ai/fisherman611-hanoi-university-of-science-and-technology/UNet%20for%20Colonoscopy%20Polyp%20Segmentation/runs/5j1kb6qe' target=\"_blank\">https://wandb.ai/fisherman611-hanoi-university-of-science-and-technology/UNet%20for%20Colonoscopy%20Polyp%20Segmentation/runs/5j1kb6qe</a>"
      ],
      "text/plain": [
       "<IPython.core.display.HTML object>"
      ]
     },
     "metadata": {},
     "output_type": "display_data"
    },
    {
     "data": {
      "text/html": [
       "<button onClick=\"this.nextSibling.style.display='block';this.style.display='none';\">Display W&B run</button><iframe src='https://wandb.ai/fisherman611-hanoi-university-of-science-and-technology/UNet%20for%20Colonoscopy%20Polyp%20Segmentation/runs/5j1kb6qe?jupyter=true' style='border:none;width:100%;height:420px;display:none;'></iframe>"
      ],
      "text/plain": [
       "<wandb.sdk.wandb_run.Run at 0x225ea83ec10>"
      ]
     },
     "execution_count": 9,
     "metadata": {},
     "output_type": "execute_result"
    }
   ],
   "source": [
    "wandb.login(\n",
    "    key = \"25283834ecbe7bd282505b0721ea3adcd8e789d3\",\n",
    ")\n",
    "wandb.init(\n",
    "    project = \"UNet for Colonoscopy Polyp Segmentation\",\n",
    "    name=f'unet-{ENCODER_NAME}'\n",
    ")"
   ]
  },
  {
   "cell_type": "code",
   "execution_count": 10,
   "metadata": {},
   "outputs": [
    {
     "name": "stderr",
     "output_type": "stream",
     "text": [
      "Training Progress:   0%|          | 0/200 [00:39<?, ?it/s, Train Loss=0.59, Val Loss=0.298]"
     ]
    },
    {
     "name": "stdout",
     "output_type": "stream",
     "text": [
      "Epoch [1/200], Validation Loss: 0.2977014390\n"
     ]
    },
    {
     "name": "stderr",
     "output_type": "stream",
     "text": [
      "Training Progress:   0%|          | 1/200 [01:20<2:17:15, 41.38s/it, Train Loss=0.233, Val Loss=0.196]"
     ]
    },
    {
     "name": "stdout",
     "output_type": "stream",
     "text": [
      "Epoch [2/200], Validation Loss: 0.1959930463\n"
     ]
    },
    {
     "name": "stderr",
     "output_type": "stream",
     "text": [
      "Training Progress:   1%|          | 2/200 [02:00<2:14:18, 40.70s/it, Train Loss=0.147, Val Loss=0.161]"
     ]
    },
    {
     "name": "stdout",
     "output_type": "stream",
     "text": [
      "Epoch [3/200], Validation Loss: 0.1614978932\n"
     ]
    },
    {
     "name": "stderr",
     "output_type": "stream",
     "text": [
      "Training Progress:   2%|▏         | 3/200 [02:41<2:13:06, 40.54s/it, Train Loss=0.104, Val Loss=0.118]"
     ]
    },
    {
     "name": "stdout",
     "output_type": "stream",
     "text": [
      "Epoch [4/200], Validation Loss: 0.1181628377\n"
     ]
    },
    {
     "name": "stderr",
     "output_type": "stream",
     "text": [
      "Training Progress:   2%|▏         | 4/200 [03:21<2:12:01, 40.42s/it, Train Loss=0.0867, Val Loss=0.0843]"
     ]
    },
    {
     "name": "stdout",
     "output_type": "stream",
     "text": [
      "Epoch [5/200], Validation Loss: 0.0843098072\n"
     ]
    },
    {
     "name": "stderr",
     "output_type": "stream",
     "text": [
      "Training Progress:   2%|▎         | 5/200 [04:01<2:11:27, 40.45s/it, Train Loss=0.0737, Val Loss=0.0684]"
     ]
    },
    {
     "name": "stdout",
     "output_type": "stream",
     "text": [
      "Epoch [6/200], Validation Loss: 0.0683591907\n"
     ]
    },
    {
     "name": "stderr",
     "output_type": "stream",
     "text": [
      "Training Progress:   3%|▎         | 6/200 [04:42<2:10:59, 40.52s/it, Train Loss=0.0593, Val Loss=0.0602]"
     ]
    },
    {
     "name": "stdout",
     "output_type": "stream",
     "text": [
      "Epoch [7/200], Validation Loss: 0.0601666787\n"
     ]
    },
    {
     "name": "stderr",
     "output_type": "stream",
     "text": [
      "Training Progress:   4%|▍         | 8/200 [05:22<2:08:05, 40.03s/it, Train Loss=0.0522, Val Loss=0.0633]"
     ]
    },
    {
     "name": "stdout",
     "output_type": "stream",
     "text": [
      "Epoch [8/200], Validation Loss: 0.0632780747\n"
     ]
    },
    {
     "name": "stderr",
     "output_type": "stream",
     "text": [
      "Training Progress:   4%|▍         | 8/200 [06:01<2:08:05, 40.03s/it, Train Loss=0.0521, Val Loss=0.0546]"
     ]
    },
    {
     "name": "stdout",
     "output_type": "stream",
     "text": [
      "Epoch [9/200], Validation Loss: 0.0545531761\n"
     ]
    },
    {
     "name": "stderr",
     "output_type": "stream",
     "text": [
      "Training Progress:   5%|▌         | 10/200 [06:42<2:06:16, 39.88s/it, Train Loss=0.0474, Val Loss=0.0718]"
     ]
    },
    {
     "name": "stdout",
     "output_type": "stream",
     "text": [
      "Epoch [10/200], Validation Loss: 0.0718236033\n"
     ]
    },
    {
     "name": "stderr",
     "output_type": "stream",
     "text": [
      "Training Progress:   5%|▌         | 10/200 [07:21<2:06:16, 39.88s/it, Train Loss=0.0416, Val Loss=0.0495]"
     ]
    },
    {
     "name": "stdout",
     "output_type": "stream",
     "text": [
      "Epoch [11/200], Validation Loss: 0.0495131810\n"
     ]
    },
    {
     "name": "stderr",
     "output_type": "stream",
     "text": [
      "Training Progress:   6%|▌         | 12/200 [08:02<2:04:36, 39.77s/it, Train Loss=0.0362, Val Loss=0.0513]"
     ]
    },
    {
     "name": "stdout",
     "output_type": "stream",
     "text": [
      "Epoch [12/200], Validation Loss: 0.0512653731\n"
     ]
    },
    {
     "name": "stderr",
     "output_type": "stream",
     "text": [
      "Training Progress:   6%|▌         | 12/200 [08:41<2:04:36, 39.77s/it, Train Loss=0.0348, Val Loss=0.0484]"
     ]
    },
    {
     "name": "stdout",
     "output_type": "stream",
     "text": [
      "Epoch [13/200], Validation Loss: 0.0483956336\n"
     ]
    },
    {
     "name": "stderr",
     "output_type": "stream",
     "text": [
      "Training Progress:   7%|▋         | 14/200 [09:21<2:03:04, 39.70s/it, Train Loss=0.0402, Val Loss=0.0567]"
     ]
    },
    {
     "name": "stdout",
     "output_type": "stream",
     "text": [
      "Epoch [14/200], Validation Loss: 0.0567447580\n"
     ]
    },
    {
     "name": "stderr",
     "output_type": "stream",
     "text": [
      "Training Progress:   8%|▊         | 15/200 [10:00<2:01:55, 39.54s/it, Train Loss=0.0312, Val Loss=0.0549]"
     ]
    },
    {
     "name": "stdout",
     "output_type": "stream",
     "text": [
      "Epoch [15/200], Validation Loss: 0.0548538964\n"
     ]
    },
    {
     "name": "stderr",
     "output_type": "stream",
     "text": [
      "Training Progress:   8%|▊         | 15/200 [10:39<2:01:55, 39.54s/it, Train Loss=0.0348, Val Loss=0.042] "
     ]
    },
    {
     "name": "stdout",
     "output_type": "stream",
     "text": [
      "Epoch [16/200], Validation Loss: 0.0419830168\n"
     ]
    },
    {
     "name": "stderr",
     "output_type": "stream",
     "text": [
      "Training Progress:   8%|▊         | 17/200 [11:20<2:00:50, 39.62s/it, Train Loss=0.0276, Val Loss=0.0454]"
     ]
    },
    {
     "name": "stdout",
     "output_type": "stream",
     "text": [
      "Epoch [17/200], Validation Loss: 0.0453627585\n"
     ]
    },
    {
     "name": "stderr",
     "output_type": "stream",
     "text": [
      "Training Progress:   9%|▉         | 18/200 [11:59<1:59:49, 39.50s/it, Train Loss=0.0269, Val Loss=0.047] "
     ]
    },
    {
     "name": "stdout",
     "output_type": "stream",
     "text": [
      "Epoch [18/200], Validation Loss: 0.0469748216\n"
     ]
    },
    {
     "name": "stderr",
     "output_type": "stream",
     "text": [
      "Training Progress:  10%|▉         | 19/200 [12:38<1:58:58, 39.44s/it, Train Loss=0.0227, Val Loss=0.0485]"
     ]
    },
    {
     "name": "stdout",
     "output_type": "stream",
     "text": [
      "Epoch [19/200], Validation Loss: 0.0485144302\n"
     ]
    },
    {
     "name": "stderr",
     "output_type": "stream",
     "text": [
      "Training Progress:  10%|█         | 20/200 [13:17<1:58:06, 39.37s/it, Train Loss=0.0239, Val Loss=0.0431]"
     ]
    },
    {
     "name": "stdout",
     "output_type": "stream",
     "text": [
      "Epoch [20/200], Validation Loss: 0.0430853129\n"
     ]
    },
    {
     "name": "stderr",
     "output_type": "stream",
     "text": [
      "Training Progress:  10%|█         | 20/200 [13:57<1:58:06, 39.37s/it, Train Loss=0.0221, Val Loss=0.0416]"
     ]
    },
    {
     "name": "stdout",
     "output_type": "stream",
     "text": [
      "Epoch [21/200], Validation Loss: 0.0415548596\n"
     ]
    },
    {
     "name": "stderr",
     "output_type": "stream",
     "text": [
      "Training Progress:  10%|█         | 21/200 [14:37<1:58:21, 39.67s/it, Train Loss=0.0213, Val Loss=0.0366]"
     ]
    },
    {
     "name": "stdout",
     "output_type": "stream",
     "text": [
      "Epoch [22/200], Validation Loss: 0.0366366507\n"
     ]
    },
    {
     "name": "stderr",
     "output_type": "stream",
     "text": [
      "Training Progress:  12%|█▏        | 23/200 [15:17<1:57:01, 39.67s/it, Train Loss=0.0197, Val Loss=0.0393]"
     ]
    },
    {
     "name": "stdout",
     "output_type": "stream",
     "text": [
      "Epoch [23/200], Validation Loss: 0.0393345921\n"
     ]
    },
    {
     "name": "stderr",
     "output_type": "stream",
     "text": [
      "Training Progress:  12%|█▏        | 24/200 [15:57<1:55:55, 39.52s/it, Train Loss=0.019, Val Loss=0.0452] "
     ]
    },
    {
     "name": "stdout",
     "output_type": "stream",
     "text": [
      "Epoch [24/200], Validation Loss: 0.0452395940\n"
     ]
    },
    {
     "name": "stderr",
     "output_type": "stream",
     "text": [
      "Training Progress:  12%|█▎        | 25/200 [16:36<1:55:02, 39.44s/it, Train Loss=0.018, Val Loss=0.0502]"
     ]
    },
    {
     "name": "stdout",
     "output_type": "stream",
     "text": [
      "Epoch [25/200], Validation Loss: 0.0501741463\n"
     ]
    },
    {
     "name": "stderr",
     "output_type": "stream",
     "text": [
      "Training Progress:  13%|█▎        | 26/200 [17:15<1:54:11, 39.38s/it, Train Loss=0.0267, Val Loss=0.0519]"
     ]
    },
    {
     "name": "stdout",
     "output_type": "stream",
     "text": [
      "Epoch [26/200], Validation Loss: 0.0519192087\n"
     ]
    },
    {
     "name": "stderr",
     "output_type": "stream",
     "text": [
      "Training Progress:  14%|█▎        | 27/200 [17:54<1:53:21, 39.32s/it, Train Loss=0.021, Val Loss=0.0447] "
     ]
    },
    {
     "name": "stdout",
     "output_type": "stream",
     "text": [
      "Epoch [27/200], Validation Loss: 0.0447373300\n"
     ]
    },
    {
     "name": "stderr",
     "output_type": "stream",
     "text": [
      "Training Progress:  14%|█▍        | 28/200 [18:33<1:52:35, 39.28s/it, Train Loss=0.0193, Val Loss=0.0589]"
     ]
    },
    {
     "name": "stdout",
     "output_type": "stream",
     "text": [
      "Epoch [28/200], Validation Loss: 0.0588662649\n"
     ]
    },
    {
     "name": "stderr",
     "output_type": "stream",
     "text": [
      "Training Progress:  14%|█▍        | 29/200 [19:13<1:51:53, 39.26s/it, Train Loss=0.0179, Val Loss=0.0418]"
     ]
    },
    {
     "name": "stdout",
     "output_type": "stream",
     "text": [
      "Epoch [29/200], Validation Loss: 0.0418215637\n"
     ]
    },
    {
     "name": "stderr",
     "output_type": "stream",
     "text": [
      "Training Progress:  15%|█▌        | 30/200 [19:52<1:51:10, 39.24s/it, Train Loss=0.0274, Val Loss=0.0488]"
     ]
    },
    {
     "name": "stdout",
     "output_type": "stream",
     "text": [
      "Epoch [30/200], Validation Loss: 0.0488273527\n"
     ]
    },
    {
     "name": "stderr",
     "output_type": "stream",
     "text": [
      "Training Progress:  16%|█▌        | 31/200 [20:31<1:50:29, 39.23s/it, Train Loss=0.0178, Val Loss=0.0378]"
     ]
    },
    {
     "name": "stdout",
     "output_type": "stream",
     "text": [
      "Epoch [31/200], Validation Loss: 0.0378118338\n"
     ]
    },
    {
     "name": "stderr",
     "output_type": "stream",
     "text": [
      "Training Progress:  16%|█▌        | 31/200 [21:10<1:50:29, 39.23s/it, Train Loss=0.0145, Val Loss=0.0347]"
     ]
    },
    {
     "name": "stdout",
     "output_type": "stream",
     "text": [
      "Epoch [32/200], Validation Loss: 0.0346661209\n"
     ]
    },
    {
     "name": "stderr",
     "output_type": "stream",
     "text": [
      "Training Progress:  16%|█▋        | 33/200 [21:51<1:49:50, 39.47s/it, Train Loss=0.0195, Val Loss=0.0437]"
     ]
    },
    {
     "name": "stdout",
     "output_type": "stream",
     "text": [
      "Epoch [33/200], Validation Loss: 0.0436712075\n"
     ]
    },
    {
     "name": "stderr",
     "output_type": "stream",
     "text": [
      "Training Progress:  17%|█▋        | 34/200 [22:30<1:49:00, 39.40s/it, Train Loss=0.0186, Val Loss=0.0627]"
     ]
    },
    {
     "name": "stdout",
     "output_type": "stream",
     "text": [
      "Epoch [34/200], Validation Loss: 0.0626544613\n"
     ]
    },
    {
     "name": "stderr",
     "output_type": "stream",
     "text": [
      "Training Progress:  18%|█▊        | 35/200 [23:09<1:48:12, 39.35s/it, Train Loss=0.0195, Val Loss=0.0484]"
     ]
    },
    {
     "name": "stdout",
     "output_type": "stream",
     "text": [
      "Epoch [35/200], Validation Loss: 0.0483596412\n"
     ]
    },
    {
     "name": "stderr",
     "output_type": "stream",
     "text": [
      "Training Progress:  18%|█▊        | 36/200 [23:48<1:47:26, 39.31s/it, Train Loss=0.0192, Val Loss=0.0407]"
     ]
    },
    {
     "name": "stdout",
     "output_type": "stream",
     "text": [
      "Epoch [36/200], Validation Loss: 0.0406892369\n"
     ]
    },
    {
     "name": "stderr",
     "output_type": "stream",
     "text": [
      "Training Progress:  18%|█▊        | 37/200 [24:27<1:46:42, 39.28s/it, Train Loss=0.0127, Val Loss=0.0369]"
     ]
    },
    {
     "name": "stdout",
     "output_type": "stream",
     "text": [
      "Epoch [37/200], Validation Loss: 0.0369384742\n"
     ]
    },
    {
     "name": "stderr",
     "output_type": "stream",
     "text": [
      "Training Progress:  19%|█▉        | 38/200 [25:07<1:45:59, 39.25s/it, Train Loss=0.0113, Val Loss=0.0459]"
     ]
    },
    {
     "name": "stdout",
     "output_type": "stream",
     "text": [
      "Epoch [38/200], Validation Loss: 0.0458510206\n"
     ]
    },
    {
     "name": "stderr",
     "output_type": "stream",
     "text": [
      "Training Progress:  20%|█▉        | 39/200 [25:46<1:45:18, 39.24s/it, Train Loss=0.0122, Val Loss=0.0641]"
     ]
    },
    {
     "name": "stdout",
     "output_type": "stream",
     "text": [
      "Epoch [39/200], Validation Loss: 0.0641100975\n"
     ]
    },
    {
     "name": "stderr",
     "output_type": "stream",
     "text": [
      "Training Progress:  20%|██        | 40/200 [26:25<1:44:37, 39.23s/it, Train Loss=0.0128, Val Loss=0.0388]"
     ]
    },
    {
     "name": "stdout",
     "output_type": "stream",
     "text": [
      "Epoch [40/200], Validation Loss: 0.0388050651\n"
     ]
    },
    {
     "name": "stderr",
     "output_type": "stream",
     "text": [
      "Training Progress:  20%|██        | 41/200 [27:04<1:43:58, 39.24s/it, Train Loss=0.0119, Val Loss=0.0443]"
     ]
    },
    {
     "name": "stdout",
     "output_type": "stream",
     "text": [
      "Epoch [41/200], Validation Loss: 0.0443117014\n"
     ]
    },
    {
     "name": "stderr",
     "output_type": "stream",
     "text": [
      "Training Progress:  21%|██        | 42/200 [27:44<1:43:30, 39.31s/it, Train Loss=0.0179, Val Loss=0.0502]"
     ]
    },
    {
     "name": "stdout",
     "output_type": "stream",
     "text": [
      "Epoch [42/200], Validation Loss: 0.0501615844\n"
     ]
    },
    {
     "name": "stderr",
     "output_type": "stream",
     "text": [
      "Training Progress:  22%|██▏       | 43/200 [28:23<1:42:47, 39.29s/it, Train Loss=0.0212, Val Loss=0.1]   "
     ]
    },
    {
     "name": "stdout",
     "output_type": "stream",
     "text": [
      "Epoch [43/200], Validation Loss: 0.1004137050\n"
     ]
    },
    {
     "name": "stderr",
     "output_type": "stream",
     "text": [
      "Training Progress:  22%|██▏       | 44/200 [29:02<1:42:04, 39.26s/it, Train Loss=0.0181, Val Loss=0.0577]"
     ]
    },
    {
     "name": "stdout",
     "output_type": "stream",
     "text": [
      "Epoch [44/200], Validation Loss: 0.0576952864\n"
     ]
    },
    {
     "name": "stderr",
     "output_type": "stream",
     "text": [
      "Training Progress:  22%|██▎       | 45/200 [29:41<1:41:22, 39.24s/it, Train Loss=0.0118, Val Loss=0.05]  "
     ]
    },
    {
     "name": "stdout",
     "output_type": "stream",
     "text": [
      "Epoch [45/200], Validation Loss: 0.0499643468\n"
     ]
    },
    {
     "name": "stderr",
     "output_type": "stream",
     "text": [
      "Training Progress:  23%|██▎       | 46/200 [30:21<1:40:41, 39.23s/it, Train Loss=0.0115, Val Loss=0.0557]"
     ]
    },
    {
     "name": "stdout",
     "output_type": "stream",
     "text": [
      "Epoch [46/200], Validation Loss: 0.0557333570\n"
     ]
    },
    {
     "name": "stderr",
     "output_type": "stream",
     "text": [
      "Training Progress:  24%|██▎       | 47/200 [31:00<1:40:01, 39.23s/it, Train Loss=0.0133, Val Loss=0.0506]"
     ]
    },
    {
     "name": "stdout",
     "output_type": "stream",
     "text": [
      "Epoch [47/200], Validation Loss: 0.0506096929\n"
     ]
    },
    {
     "name": "stderr",
     "output_type": "stream",
     "text": [
      "Training Progress:  24%|██▍       | 48/200 [31:39<1:39:23, 39.24s/it, Train Loss=0.0121, Val Loss=0.0475]"
     ]
    },
    {
     "name": "stdout",
     "output_type": "stream",
     "text": [
      "Epoch [48/200], Validation Loss: 0.0475415585\n"
     ]
    },
    {
     "name": "stderr",
     "output_type": "stream",
     "text": [
      "Training Progress:  24%|██▍       | 49/200 [32:18<1:38:44, 39.24s/it, Train Loss=0.0104, Val Loss=0.0364]"
     ]
    },
    {
     "name": "stdout",
     "output_type": "stream",
     "text": [
      "Epoch [49/200], Validation Loss: 0.0363502399\n"
     ]
    },
    {
     "name": "stderr",
     "output_type": "stream",
     "text": [
      "Training Progress:  25%|██▌       | 50/200 [32:58<1:38:03, 39.22s/it, Train Loss=0.0164, Val Loss=0.0554]"
     ]
    },
    {
     "name": "stdout",
     "output_type": "stream",
     "text": [
      "Epoch [50/200], Validation Loss: 0.0554107356\n"
     ]
    },
    {
     "name": "stderr",
     "output_type": "stream",
     "text": [
      "Training Progress:  26%|██▌       | 51/200 [33:37<1:37:23, 39.22s/it, Train Loss=0.0122, Val Loss=0.0419]"
     ]
    },
    {
     "name": "stdout",
     "output_type": "stream",
     "text": [
      "Epoch [51/200], Validation Loss: 0.0419183517\n"
     ]
    },
    {
     "name": "stderr",
     "output_type": "stream",
     "text": [
      "Training Progress:  26%|██▌       | 52/200 [34:16<1:36:43, 39.22s/it, Train Loss=0.011, Val Loss=0.0501] "
     ]
    },
    {
     "name": "stdout",
     "output_type": "stream",
     "text": [
      "Epoch [52/200], Validation Loss: 0.0500845941\n"
     ]
    },
    {
     "name": "stderr",
     "output_type": "stream",
     "text": [
      "Training Progress:  26%|██▋       | 53/200 [34:55<1:36:06, 39.23s/it, Train Loss=0.00926, Val Loss=0.0465]"
     ]
    },
    {
     "name": "stdout",
     "output_type": "stream",
     "text": [
      "Epoch [53/200], Validation Loss: 0.0465315003\n"
     ]
    },
    {
     "name": "stderr",
     "output_type": "stream",
     "text": [
      "Training Progress:  27%|██▋       | 54/200 [35:34<1:35:26, 39.22s/it, Train Loss=0.00767, Val Loss=0.0562]"
     ]
    },
    {
     "name": "stdout",
     "output_type": "stream",
     "text": [
      "Epoch [54/200], Validation Loss: 0.0562350697\n"
     ]
    },
    {
     "name": "stderr",
     "output_type": "stream",
     "text": [
      "Training Progress:  28%|██▊       | 55/200 [36:14<1:34:46, 39.22s/it, Train Loss=0.00741, Val Loss=0.0469]"
     ]
    },
    {
     "name": "stdout",
     "output_type": "stream",
     "text": [
      "Epoch [55/200], Validation Loss: 0.0468949775\n"
     ]
    },
    {
     "name": "stderr",
     "output_type": "stream",
     "text": [
      "Training Progress:  28%|██▊       | 56/200 [36:53<1:34:07, 39.22s/it, Train Loss=0.00698, Val Loss=0.0437]"
     ]
    },
    {
     "name": "stdout",
     "output_type": "stream",
     "text": [
      "Epoch [56/200], Validation Loss: 0.0437221971\n"
     ]
    },
    {
     "name": "stderr",
     "output_type": "stream",
     "text": [
      "Training Progress:  28%|██▊       | 57/200 [37:32<1:33:31, 39.24s/it, Train Loss=0.00678, Val Loss=0.0485]"
     ]
    },
    {
     "name": "stdout",
     "output_type": "stream",
     "text": [
      "Epoch [57/200], Validation Loss: 0.0485266483\n"
     ]
    },
    {
     "name": "stderr",
     "output_type": "stream",
     "text": [
      "Training Progress:  29%|██▉       | 58/200 [38:11<1:32:50, 39.23s/it, Train Loss=0.00837, Val Loss=0.045] "
     ]
    },
    {
     "name": "stdout",
     "output_type": "stream",
     "text": [
      "Epoch [58/200], Validation Loss: 0.0450174568\n"
     ]
    },
    {
     "name": "stderr",
     "output_type": "stream",
     "text": [
      "Training Progress:  30%|██▉       | 59/200 [38:51<1:32:11, 39.23s/it, Train Loss=0.00875, Val Loss=0.0521]"
     ]
    },
    {
     "name": "stdout",
     "output_type": "stream",
     "text": [
      "Epoch [59/200], Validation Loss: 0.0521305628\n"
     ]
    },
    {
     "name": "stderr",
     "output_type": "stream",
     "text": [
      "Training Progress:  30%|███       | 60/200 [39:30<1:31:31, 39.23s/it, Train Loss=0.0081, Val Loss=0.0549] "
     ]
    },
    {
     "name": "stdout",
     "output_type": "stream",
     "text": [
      "Epoch [60/200], Validation Loss: 0.0549050464\n"
     ]
    },
    {
     "name": "stderr",
     "output_type": "stream",
     "text": [
      "Training Progress:  30%|███       | 61/200 [40:09<1:30:51, 39.22s/it, Train Loss=0.0167, Val Loss=0.0623]"
     ]
    },
    {
     "name": "stdout",
     "output_type": "stream",
     "text": [
      "Epoch [61/200], Validation Loss: 0.0623330577\n"
     ]
    },
    {
     "name": "stderr",
     "output_type": "stream",
     "text": [
      "Training Progress:  31%|███       | 62/200 [40:48<1:30:11, 39.21s/it, Train Loss=0.0164, Val Loss=0.0516]"
     ]
    },
    {
     "name": "stdout",
     "output_type": "stream",
     "text": [
      "Epoch [62/200], Validation Loss: 0.0516124240\n"
     ]
    },
    {
     "name": "stderr",
     "output_type": "stream",
     "text": [
      "Training Progress:  32%|███▏      | 63/200 [41:27<1:29:31, 39.21s/it, Train Loss=0.0135, Val Loss=0.0463]"
     ]
    },
    {
     "name": "stdout",
     "output_type": "stream",
     "text": [
      "Epoch [63/200], Validation Loss: 0.0462509336\n"
     ]
    },
    {
     "name": "stderr",
     "output_type": "stream",
     "text": [
      "Training Progress:  32%|███▏      | 64/200 [42:07<1:28:52, 39.21s/it, Train Loss=0.0107, Val Loss=0.0496]"
     ]
    },
    {
     "name": "stdout",
     "output_type": "stream",
     "text": [
      "Epoch [64/200], Validation Loss: 0.0495641213\n"
     ]
    },
    {
     "name": "stderr",
     "output_type": "stream",
     "text": [
      "Training Progress:  32%|███▎      | 65/200 [42:46<1:28:14, 39.22s/it, Train Loss=0.0112, Val Loss=0.0503]"
     ]
    },
    {
     "name": "stdout",
     "output_type": "stream",
     "text": [
      "Epoch [65/200], Validation Loss: 0.0503068652\n"
     ]
    },
    {
     "name": "stderr",
     "output_type": "stream",
     "text": [
      "Training Progress:  33%|███▎      | 66/200 [43:25<1:27:35, 39.22s/it, Train Loss=0.00974, Val Loss=0.0582]"
     ]
    },
    {
     "name": "stdout",
     "output_type": "stream",
     "text": [
      "Epoch [66/200], Validation Loss: 0.0581815327\n"
     ]
    },
    {
     "name": "stderr",
     "output_type": "stream",
     "text": [
      "Training Progress:  34%|███▎      | 67/200 [44:04<1:26:56, 39.22s/it, Train Loss=0.0112, Val Loss=0.0595] "
     ]
    },
    {
     "name": "stdout",
     "output_type": "stream",
     "text": [
      "Epoch [67/200], Validation Loss: 0.0595330066\n"
     ]
    },
    {
     "name": "stderr",
     "output_type": "stream",
     "text": [
      "Training Progress:  34%|███▍      | 68/200 [44:44<1:26:17, 39.22s/it, Train Loss=0.00782, Val Loss=0.0568]"
     ]
    },
    {
     "name": "stdout",
     "output_type": "stream",
     "text": [
      "Epoch [68/200], Validation Loss: 0.0568018071\n"
     ]
    },
    {
     "name": "stderr",
     "output_type": "stream",
     "text": [
      "Training Progress:  34%|███▍      | 69/200 [45:23<1:25:37, 39.22s/it, Train Loss=0.00793, Val Loss=0.061] "
     ]
    },
    {
     "name": "stdout",
     "output_type": "stream",
     "text": [
      "Epoch [69/200], Validation Loss: 0.0610033710\n"
     ]
    },
    {
     "name": "stderr",
     "output_type": "stream",
     "text": [
      "Training Progress:  35%|███▌      | 70/200 [46:02<1:24:56, 39.21s/it, Train Loss=0.00711, Val Loss=0.0593]"
     ]
    },
    {
     "name": "stdout",
     "output_type": "stream",
     "text": [
      "Epoch [70/200], Validation Loss: 0.0592835325\n"
     ]
    },
    {
     "name": "stderr",
     "output_type": "stream",
     "text": [
      "Training Progress:  36%|███▌      | 71/200 [46:41<1:24:18, 39.21s/it, Train Loss=0.0158, Val Loss=0.0423] "
     ]
    },
    {
     "name": "stdout",
     "output_type": "stream",
     "text": [
      "Epoch [71/200], Validation Loss: 0.0422573499\n"
     ]
    },
    {
     "name": "stderr",
     "output_type": "stream",
     "text": [
      "Training Progress:  36%|███▌      | 72/200 [47:20<1:23:40, 39.22s/it, Train Loss=0.015, Val Loss=0.0444] "
     ]
    },
    {
     "name": "stdout",
     "output_type": "stream",
     "text": [
      "Epoch [72/200], Validation Loss: 0.0444123403\n"
     ]
    },
    {
     "name": "stderr",
     "output_type": "stream",
     "text": [
      "Training Progress:  36%|███▋      | 73/200 [48:00<1:23:00, 39.21s/it, Train Loss=0.00995, Val Loss=0.0448]"
     ]
    },
    {
     "name": "stdout",
     "output_type": "stream",
     "text": [
      "Epoch [73/200], Validation Loss: 0.0448026296\n"
     ]
    },
    {
     "name": "stderr",
     "output_type": "stream",
     "text": [
      "Training Progress:  37%|███▋      | 74/200 [48:39<1:22:19, 39.21s/it, Train Loss=0.00883, Val Loss=0.0479]"
     ]
    },
    {
     "name": "stdout",
     "output_type": "stream",
     "text": [
      "Epoch [74/200], Validation Loss: 0.0479484255\n"
     ]
    },
    {
     "name": "stderr",
     "output_type": "stream",
     "text": [
      "Training Progress:  38%|███▊      | 75/200 [49:18<1:21:40, 39.21s/it, Train Loss=0.00833, Val Loss=0.0606]"
     ]
    },
    {
     "name": "stdout",
     "output_type": "stream",
     "text": [
      "Epoch [75/200], Validation Loss: 0.0606142444\n"
     ]
    },
    {
     "name": "stderr",
     "output_type": "stream",
     "text": [
      "Training Progress:  38%|███▊      | 76/200 [49:57<1:21:01, 39.20s/it, Train Loss=0.00847, Val Loss=0.0522]"
     ]
    },
    {
     "name": "stdout",
     "output_type": "stream",
     "text": [
      "Epoch [76/200], Validation Loss: 0.0522110646\n"
     ]
    },
    {
     "name": "stderr",
     "output_type": "stream",
     "text": [
      "Training Progress:  38%|███▊      | 77/200 [50:36<1:20:22, 39.21s/it, Train Loss=0.00817, Val Loss=0.0487]"
     ]
    },
    {
     "name": "stdout",
     "output_type": "stream",
     "text": [
      "Epoch [77/200], Validation Loss: 0.0486753940\n"
     ]
    },
    {
     "name": "stderr",
     "output_type": "stream",
     "text": [
      "Training Progress:  39%|███▉      | 78/200 [51:16<1:19:45, 39.22s/it, Train Loss=0.0204, Val Loss=0.0548] "
     ]
    },
    {
     "name": "stdout",
     "output_type": "stream",
     "text": [
      "Epoch [78/200], Validation Loss: 0.0547727910\n"
     ]
    },
    {
     "name": "stderr",
     "output_type": "stream",
     "text": [
      "Training Progress:  40%|███▉      | 79/200 [51:55<1:19:05, 39.22s/it, Train Loss=0.00856, Val Loss=0.0486]"
     ]
    },
    {
     "name": "stdout",
     "output_type": "stream",
     "text": [
      "Epoch [79/200], Validation Loss: 0.0485536408\n"
     ]
    },
    {
     "name": "stderr",
     "output_type": "stream",
     "text": [
      "Training Progress:  40%|████      | 80/200 [52:34<1:18:26, 39.22s/it, Train Loss=0.00853, Val Loss=0.0597]"
     ]
    },
    {
     "name": "stdout",
     "output_type": "stream",
     "text": [
      "Epoch [80/200], Validation Loss: 0.0597302309\n"
     ]
    },
    {
     "name": "stderr",
     "output_type": "stream",
     "text": [
      "Training Progress:  40%|████      | 81/200 [53:13<1:17:46, 39.22s/it, Train Loss=0.00668, Val Loss=0.0696]"
     ]
    },
    {
     "name": "stdout",
     "output_type": "stream",
     "text": [
      "Epoch [81/200], Validation Loss: 0.0695599588\n"
     ]
    },
    {
     "name": "stderr",
     "output_type": "stream",
     "text": [
      "Training Progress:  41%|████      | 82/200 [53:53<1:17:07, 39.22s/it, Train Loss=0.00689, Val Loss=0.0594]"
     ]
    },
    {
     "name": "stdout",
     "output_type": "stream",
     "text": [
      "Epoch [82/200], Validation Loss: 0.0594177901\n"
     ]
    },
    {
     "name": "stderr",
     "output_type": "stream",
     "text": [
      "Training Progress:  42%|████▏     | 83/200 [54:32<1:16:27, 39.21s/it, Train Loss=0.00754, Val Loss=0.053] "
     ]
    },
    {
     "name": "stdout",
     "output_type": "stream",
     "text": [
      "Epoch [83/200], Validation Loss: 0.0529676725\n"
     ]
    },
    {
     "name": "stderr",
     "output_type": "stream",
     "text": [
      "Training Progress:  42%|████▏     | 84/200 [55:11<1:15:49, 39.22s/it, Train Loss=0.00953, Val Loss=0.0597]"
     ]
    },
    {
     "name": "stdout",
     "output_type": "stream",
     "text": [
      "Epoch [84/200], Validation Loss: 0.0597244348\n"
     ]
    },
    {
     "name": "stderr",
     "output_type": "stream",
     "text": [
      "Training Progress:  42%|████▎     | 85/200 [55:50<1:15:10, 39.22s/it, Train Loss=0.0102, Val Loss=0.0606] "
     ]
    },
    {
     "name": "stdout",
     "output_type": "stream",
     "text": [
      "Epoch [85/200], Validation Loss: 0.0605852643\n"
     ]
    },
    {
     "name": "stderr",
     "output_type": "stream",
     "text": [
      "Training Progress:  43%|████▎     | 86/200 [56:29<1:14:30, 39.22s/it, Train Loss=0.011, Val Loss=0.0583] "
     ]
    },
    {
     "name": "stdout",
     "output_type": "stream",
     "text": [
      "Epoch [86/200], Validation Loss: 0.0583299416\n"
     ]
    },
    {
     "name": "stderr",
     "output_type": "stream",
     "text": [
      "Training Progress:  44%|████▎     | 87/200 [57:09<1:13:51, 39.22s/it, Train Loss=0.0092, Val Loss=0.0592]"
     ]
    },
    {
     "name": "stdout",
     "output_type": "stream",
     "text": [
      "Epoch [87/200], Validation Loss: 0.0591880116\n"
     ]
    },
    {
     "name": "stderr",
     "output_type": "stream",
     "text": [
      "Training Progress:  44%|████▍     | 88/200 [57:48<1:13:12, 39.22s/it, Train Loss=0.00922, Val Loss=0.0545]"
     ]
    },
    {
     "name": "stdout",
     "output_type": "stream",
     "text": [
      "Epoch [88/200], Validation Loss: 0.0544770743\n"
     ]
    },
    {
     "name": "stderr",
     "output_type": "stream",
     "text": [
      "Training Progress:  44%|████▍     | 89/200 [58:27<1:12:33, 39.22s/it, Train Loss=0.0066, Val Loss=0.0529] "
     ]
    },
    {
     "name": "stdout",
     "output_type": "stream",
     "text": [
      "Epoch [89/200], Validation Loss: 0.0528886878\n"
     ]
    },
    {
     "name": "stderr",
     "output_type": "stream",
     "text": [
      "Training Progress:  45%|████▌     | 90/200 [59:06<1:11:54, 39.23s/it, Train Loss=0.00579, Val Loss=0.0552]"
     ]
    },
    {
     "name": "stdout",
     "output_type": "stream",
     "text": [
      "Epoch [90/200], Validation Loss: 0.0551747749\n"
     ]
    },
    {
     "name": "stderr",
     "output_type": "stream",
     "text": [
      "Training Progress:  46%|████▌     | 91/200 [59:46<1:11:15, 39.23s/it, Train Loss=0.00632, Val Loss=0.0545]"
     ]
    },
    {
     "name": "stdout",
     "output_type": "stream",
     "text": [
      "Epoch [91/200], Validation Loss: 0.0545324024\n"
     ]
    },
    {
     "name": "stderr",
     "output_type": "stream",
     "text": [
      "Training Progress:  46%|████▌     | 92/200 [1:00:25<1:10:36, 39.22s/it, Train Loss=0.00634, Val Loss=0.0595]"
     ]
    },
    {
     "name": "stdout",
     "output_type": "stream",
     "text": [
      "Epoch [92/200], Validation Loss: 0.0595413329\n"
     ]
    },
    {
     "name": "stderr",
     "output_type": "stream",
     "text": [
      "Training Progress:  46%|████▋     | 93/200 [1:01:04<1:09:56, 39.22s/it, Train Loss=0.00589, Val Loss=0.056] "
     ]
    },
    {
     "name": "stdout",
     "output_type": "stream",
     "text": [
      "Epoch [93/200], Validation Loss: 0.0559512712\n"
     ]
    },
    {
     "name": "stderr",
     "output_type": "stream",
     "text": [
      "Training Progress:  47%|████▋     | 94/200 [1:01:43<1:09:22, 39.27s/it, Train Loss=0.0074, Val Loss=0.052] "
     ]
    },
    {
     "name": "stdout",
     "output_type": "stream",
     "text": [
      "Epoch [94/200], Validation Loss: 0.0519949047\n"
     ]
    },
    {
     "name": "stderr",
     "output_type": "stream",
     "text": [
      "Training Progress:  48%|████▊     | 95/200 [1:02:23<1:08:43, 39.27s/it, Train Loss=0.00746, Val Loss=0.0698]"
     ]
    },
    {
     "name": "stdout",
     "output_type": "stream",
     "text": [
      "Epoch [95/200], Validation Loss: 0.0697736830\n"
     ]
    },
    {
     "name": "stderr",
     "output_type": "stream",
     "text": [
      "Training Progress:  48%|████▊     | 96/200 [1:03:02<1:08:03, 39.26s/it, Train Loss=0.00758, Val Loss=0.051] "
     ]
    },
    {
     "name": "stdout",
     "output_type": "stream",
     "text": [
      "Epoch [96/200], Validation Loss: 0.0509810736\n"
     ]
    },
    {
     "name": "stderr",
     "output_type": "stream",
     "text": [
      "Training Progress:  48%|████▊     | 97/200 [1:03:41<1:07:23, 39.26s/it, Train Loss=0.00665, Val Loss=0.0562]"
     ]
    },
    {
     "name": "stdout",
     "output_type": "stream",
     "text": [
      "Epoch [97/200], Validation Loss: 0.0561719621\n"
     ]
    },
    {
     "name": "stderr",
     "output_type": "stream",
     "text": [
      "Training Progress:  49%|████▉     | 98/200 [1:04:20<1:06:42, 39.24s/it, Train Loss=0.00592, Val Loss=0.0516]"
     ]
    },
    {
     "name": "stdout",
     "output_type": "stream",
     "text": [
      "Epoch [98/200], Validation Loss: 0.0516324477\n"
     ]
    },
    {
     "name": "stderr",
     "output_type": "stream",
     "text": [
      "Training Progress:  50%|████▉     | 99/200 [1:05:00<1:06:02, 39.23s/it, Train Loss=0.00963, Val Loss=0.0554]"
     ]
    },
    {
     "name": "stdout",
     "output_type": "stream",
     "text": [
      "Epoch [99/200], Validation Loss: 0.0554015556\n"
     ]
    },
    {
     "name": "stderr",
     "output_type": "stream",
     "text": [
      "Training Progress:  50%|█████     | 100/200 [1:05:39<1:05:22, 39.23s/it, Train Loss=0.00854, Val Loss=0.0593]"
     ]
    },
    {
     "name": "stdout",
     "output_type": "stream",
     "text": [
      "Epoch [100/200], Validation Loss: 0.0593112008\n"
     ]
    },
    {
     "name": "stderr",
     "output_type": "stream",
     "text": [
      "Training Progress:  50%|█████     | 101/200 [1:06:18<1:04:42, 39.21s/it, Train Loss=0.0105, Val Loss=0.0466] "
     ]
    },
    {
     "name": "stdout",
     "output_type": "stream",
     "text": [
      "Epoch [101/200], Validation Loss: 0.0465975083\n"
     ]
    },
    {
     "name": "stderr",
     "output_type": "stream",
     "text": [
      "Training Progress:  51%|█████     | 102/200 [1:06:57<1:04:02, 39.21s/it, Train Loss=0.0109, Val Loss=0.0549]"
     ]
    },
    {
     "name": "stdout",
     "output_type": "stream",
     "text": [
      "Epoch [102/200], Validation Loss: 0.0548550210\n"
     ]
    },
    {
     "name": "stderr",
     "output_type": "stream",
     "text": [
      "Training Progress:  52%|█████▏    | 103/200 [1:07:36<1:03:23, 39.21s/it, Train Loss=0.00852, Val Loss=0.0574]"
     ]
    },
    {
     "name": "stdout",
     "output_type": "stream",
     "text": [
      "Epoch [103/200], Validation Loss: 0.0573865177\n"
     ]
    },
    {
     "name": "stderr",
     "output_type": "stream",
     "text": [
      "Training Progress:  52%|█████▏    | 104/200 [1:08:16<1:02:44, 39.21s/it, Train Loss=0.00683, Val Loss=0.0465]"
     ]
    },
    {
     "name": "stdout",
     "output_type": "stream",
     "text": [
      "Epoch [104/200], Validation Loss: 0.0465265900\n"
     ]
    },
    {
     "name": "stderr",
     "output_type": "stream",
     "text": [
      "Training Progress:  52%|█████▎    | 105/200 [1:08:55<1:02:04, 39.21s/it, Train Loss=0.00604, Val Loss=0.0458]"
     ]
    },
    {
     "name": "stdout",
     "output_type": "stream",
     "text": [
      "Epoch [105/200], Validation Loss: 0.0457864759\n"
     ]
    },
    {
     "name": "stderr",
     "output_type": "stream",
     "text": [
      "Training Progress:  53%|█████▎    | 106/200 [1:09:34<1:01:24, 39.20s/it, Train Loss=0.00529, Val Loss=0.0491]"
     ]
    },
    {
     "name": "stdout",
     "output_type": "stream",
     "text": [
      "Epoch [106/200], Validation Loss: 0.0490702660\n"
     ]
    },
    {
     "name": "stderr",
     "output_type": "stream",
     "text": [
      "Training Progress:  54%|█████▎    | 107/200 [1:10:13<1:00:45, 39.20s/it, Train Loss=0.00883, Val Loss=0.0501]"
     ]
    },
    {
     "name": "stdout",
     "output_type": "stream",
     "text": [
      "Epoch [107/200], Validation Loss: 0.0501002093\n"
     ]
    },
    {
     "name": "stderr",
     "output_type": "stream",
     "text": [
      "Training Progress:  54%|█████▍    | 108/200 [1:10:52<1:00:06, 39.21s/it, Train Loss=0.00636, Val Loss=0.0493]"
     ]
    },
    {
     "name": "stdout",
     "output_type": "stream",
     "text": [
      "Epoch [108/200], Validation Loss: 0.0493050756\n"
     ]
    },
    {
     "name": "stderr",
     "output_type": "stream",
     "text": [
      "Training Progress:  55%|█████▍    | 109/200 [1:11:32<59:28, 39.21s/it, Train Loss=0.006, Val Loss=0.061]     "
     ]
    },
    {
     "name": "stdout",
     "output_type": "stream",
     "text": [
      "Epoch [109/200], Validation Loss: 0.0609944856\n"
     ]
    },
    {
     "name": "stderr",
     "output_type": "stream",
     "text": [
      "Training Progress:  55%|█████▌    | 110/200 [1:12:11<58:49, 39.22s/it, Train Loss=0.0089, Val Loss=0.0584]"
     ]
    },
    {
     "name": "stdout",
     "output_type": "stream",
     "text": [
      "Epoch [110/200], Validation Loss: 0.0584151397\n"
     ]
    },
    {
     "name": "stderr",
     "output_type": "stream",
     "text": [
      "Training Progress:  56%|█████▌    | 111/200 [1:12:50<58:09, 39.21s/it, Train Loss=0.00599, Val Loss=0.0552]"
     ]
    },
    {
     "name": "stdout",
     "output_type": "stream",
     "text": [
      "Epoch [111/200], Validation Loss: 0.0552179588\n"
     ]
    },
    {
     "name": "stderr",
     "output_type": "stream",
     "text": [
      "Training Progress:  56%|█████▌    | 112/200 [1:13:29<57:30, 39.21s/it, Train Loss=0.00632, Val Loss=0.0532]"
     ]
    },
    {
     "name": "stdout",
     "output_type": "stream",
     "text": [
      "Epoch [112/200], Validation Loss: 0.0531817177\n"
     ]
    },
    {
     "name": "stderr",
     "output_type": "stream",
     "text": [
      "Training Progress:  56%|█████▋    | 113/200 [1:14:08<56:51, 39.21s/it, Train Loss=0.00539, Val Loss=0.047] "
     ]
    },
    {
     "name": "stdout",
     "output_type": "stream",
     "text": [
      "Epoch [113/200], Validation Loss: 0.0470139738\n"
     ]
    },
    {
     "name": "stderr",
     "output_type": "stream",
     "text": [
      "Training Progress:  57%|█████▋    | 114/200 [1:14:48<56:12, 39.21s/it, Train Loss=0.00489, Val Loss=0.0434]"
     ]
    },
    {
     "name": "stdout",
     "output_type": "stream",
     "text": [
      "Epoch [114/200], Validation Loss: 0.0434006349\n"
     ]
    },
    {
     "name": "stderr",
     "output_type": "stream",
     "text": [
      "Training Progress:  57%|█████▊    | 115/200 [1:15:27<55:33, 39.22s/it, Train Loss=0.00549, Val Loss=0.0655]"
     ]
    },
    {
     "name": "stdout",
     "output_type": "stream",
     "text": [
      "Epoch [115/200], Validation Loss: 0.0655061325\n"
     ]
    },
    {
     "name": "stderr",
     "output_type": "stream",
     "text": [
      "Training Progress:  58%|█████▊    | 116/200 [1:16:06<54:55, 39.23s/it, Train Loss=0.00509, Val Loss=0.0681]"
     ]
    },
    {
     "name": "stdout",
     "output_type": "stream",
     "text": [
      "Epoch [116/200], Validation Loss: 0.0680706479\n"
     ]
    },
    {
     "name": "stderr",
     "output_type": "stream",
     "text": [
      "Training Progress:  58%|█████▊    | 117/200 [1:16:45<54:15, 39.22s/it, Train Loss=0.00469, Val Loss=0.0654]"
     ]
    },
    {
     "name": "stdout",
     "output_type": "stream",
     "text": [
      "Epoch [117/200], Validation Loss: 0.0653624906\n"
     ]
    },
    {
     "name": "stderr",
     "output_type": "stream",
     "text": [
      "Training Progress:  59%|█████▉    | 118/200 [1:17:25<53:35, 39.22s/it, Train Loss=0.00574, Val Loss=0.062] "
     ]
    },
    {
     "name": "stdout",
     "output_type": "stream",
     "text": [
      "Epoch [118/200], Validation Loss: 0.0620299400\n"
     ]
    },
    {
     "name": "stderr",
     "output_type": "stream",
     "text": [
      "Training Progress:  60%|█████▉    | 119/200 [1:18:04<52:55, 39.21s/it, Train Loss=0.00566, Val Loss=0.0524]"
     ]
    },
    {
     "name": "stdout",
     "output_type": "stream",
     "text": [
      "Epoch [119/200], Validation Loss: 0.0524241441\n"
     ]
    },
    {
     "name": "stderr",
     "output_type": "stream",
     "text": [
      "Training Progress:  60%|██████    | 120/200 [1:18:43<52:17, 39.21s/it, Train Loss=0.0269, Val Loss=0.0452] "
     ]
    },
    {
     "name": "stdout",
     "output_type": "stream",
     "text": [
      "Epoch [120/200], Validation Loss: 0.0452352725\n"
     ]
    },
    {
     "name": "stderr",
     "output_type": "stream",
     "text": [
      "Training Progress:  60%|██████    | 121/200 [1:19:22<51:38, 39.22s/it, Train Loss=0.00849, Val Loss=0.0479]"
     ]
    },
    {
     "name": "stdout",
     "output_type": "stream",
     "text": [
      "Epoch [121/200], Validation Loss: 0.0479205918\n"
     ]
    },
    {
     "name": "stderr",
     "output_type": "stream",
     "text": [
      "Training Progress:  61%|██████    | 122/200 [1:20:01<50:59, 39.22s/it, Train Loss=0.00647, Val Loss=0.0563]"
     ]
    },
    {
     "name": "stdout",
     "output_type": "stream",
     "text": [
      "Epoch [122/200], Validation Loss: 0.0563163995\n"
     ]
    },
    {
     "name": "stderr",
     "output_type": "stream",
     "text": [
      "Training Progress:  62%|██████▏   | 123/200 [1:20:41<50:19, 39.22s/it, Train Loss=0.0065, Val Loss=0.0475] "
     ]
    },
    {
     "name": "stdout",
     "output_type": "stream",
     "text": [
      "Epoch [123/200], Validation Loss: 0.0475301160\n"
     ]
    },
    {
     "name": "stderr",
     "output_type": "stream",
     "text": [
      "Training Progress:  62%|██████▏   | 124/200 [1:21:20<49:40, 39.22s/it, Train Loss=0.00525, Val Loss=0.0537]"
     ]
    },
    {
     "name": "stdout",
     "output_type": "stream",
     "text": [
      "Epoch [124/200], Validation Loss: 0.0536852978\n"
     ]
    },
    {
     "name": "stderr",
     "output_type": "stream",
     "text": [
      "Training Progress:  62%|██████▎   | 125/200 [1:21:59<49:04, 39.25s/it, Train Loss=0.00547, Val Loss=0.0577]"
     ]
    },
    {
     "name": "stdout",
     "output_type": "stream",
     "text": [
      "Epoch [125/200], Validation Loss: 0.0577323041\n"
     ]
    },
    {
     "name": "stderr",
     "output_type": "stream",
     "text": [
      "Training Progress:  63%|██████▎   | 126/200 [1:22:38<48:24, 39.25s/it, Train Loss=0.00595, Val Loss=0.0634]"
     ]
    },
    {
     "name": "stdout",
     "output_type": "stream",
     "text": [
      "Epoch [126/200], Validation Loss: 0.0633619714\n"
     ]
    },
    {
     "name": "stderr",
     "output_type": "stream",
     "text": [
      "Training Progress:  64%|██████▎   | 127/200 [1:23:18<47:44, 39.24s/it, Train Loss=0.019, Val Loss=0.0723]  "
     ]
    },
    {
     "name": "stdout",
     "output_type": "stream",
     "text": [
      "Epoch [127/200], Validation Loss: 0.0723230257\n"
     ]
    },
    {
     "name": "stderr",
     "output_type": "stream",
     "text": [
      "Training Progress:  64%|██████▍   | 128/200 [1:23:57<47:04, 39.23s/it, Train Loss=0.0154, Val Loss=0.0536]"
     ]
    },
    {
     "name": "stdout",
     "output_type": "stream",
     "text": [
      "Epoch [128/200], Validation Loss: 0.0536155579\n"
     ]
    },
    {
     "name": "stderr",
     "output_type": "stream",
     "text": [
      "Training Progress:  64%|██████▍   | 129/200 [1:24:36<46:24, 39.22s/it, Train Loss=0.0119, Val Loss=0.0583]"
     ]
    },
    {
     "name": "stdout",
     "output_type": "stream",
     "text": [
      "Epoch [129/200], Validation Loss: 0.0582694060\n"
     ]
    },
    {
     "name": "stderr",
     "output_type": "stream",
     "text": [
      "Training Progress:  65%|██████▌   | 130/200 [1:25:15<45:45, 39.22s/it, Train Loss=0.00631, Val Loss=0.0553]"
     ]
    },
    {
     "name": "stdout",
     "output_type": "stream",
     "text": [
      "Epoch [130/200], Validation Loss: 0.0553439545\n"
     ]
    },
    {
     "name": "stderr",
     "output_type": "stream",
     "text": [
      "Training Progress:  66%|██████▌   | 131/200 [1:25:54<45:05, 39.21s/it, Train Loss=0.00649, Val Loss=0.0707]"
     ]
    },
    {
     "name": "stdout",
     "output_type": "stream",
     "text": [
      "Epoch [131/200], Validation Loss: 0.0707242053\n"
     ]
    },
    {
     "name": "stderr",
     "output_type": "stream",
     "text": [
      "Training Progress:  66%|██████▌   | 132/200 [1:26:34<44:26, 39.22s/it, Train Loss=0.0056, Val Loss=0.0508] "
     ]
    },
    {
     "name": "stdout",
     "output_type": "stream",
     "text": [
      "Epoch [132/200], Validation Loss: 0.0508199437\n"
     ]
    },
    {
     "name": "stderr",
     "output_type": "stream",
     "text": [
      "Training Progress:  66%|██████▋   | 133/200 [1:27:13<43:51, 39.27s/it, Train Loss=0.00913, Val Loss=0.0571]"
     ]
    },
    {
     "name": "stdout",
     "output_type": "stream",
     "text": [
      "Epoch [133/200], Validation Loss: 0.0571271102\n"
     ]
    },
    {
     "name": "stderr",
     "output_type": "stream",
     "text": [
      "Training Progress:  67%|██████▋   | 134/200 [1:27:52<43:11, 39.27s/it, Train Loss=0.00815, Val Loss=0.046] "
     ]
    },
    {
     "name": "stdout",
     "output_type": "stream",
     "text": [
      "Epoch [134/200], Validation Loss: 0.0459746204\n"
     ]
    },
    {
     "name": "stderr",
     "output_type": "stream",
     "text": [
      "Training Progress:  68%|██████▊   | 135/200 [1:28:32<42:31, 39.26s/it, Train Loss=0.00613, Val Loss=0.0504]"
     ]
    },
    {
     "name": "stdout",
     "output_type": "stream",
     "text": [
      "Epoch [135/200], Validation Loss: 0.0504166231\n"
     ]
    },
    {
     "name": "stderr",
     "output_type": "stream",
     "text": [
      "Training Progress:  68%|██████▊   | 136/200 [1:29:11<41:51, 39.24s/it, Train Loss=0.00494, Val Loss=0.0524]"
     ]
    },
    {
     "name": "stdout",
     "output_type": "stream",
     "text": [
      "Epoch [136/200], Validation Loss: 0.0523860904\n"
     ]
    },
    {
     "name": "stderr",
     "output_type": "stream",
     "text": [
      "Training Progress:  68%|██████▊   | 137/200 [1:29:50<41:11, 39.24s/it, Train Loss=0.00463, Val Loss=0.055] "
     ]
    },
    {
     "name": "stdout",
     "output_type": "stream",
     "text": [
      "Epoch [137/200], Validation Loss: 0.0550045432\n"
     ]
    },
    {
     "name": "stderr",
     "output_type": "stream",
     "text": [
      "Training Progress:  69%|██████▉   | 138/200 [1:30:29<40:31, 39.22s/it, Train Loss=0.00442, Val Loss=0.0533]"
     ]
    },
    {
     "name": "stdout",
     "output_type": "stream",
     "text": [
      "Epoch [138/200], Validation Loss: 0.0532945861\n"
     ]
    },
    {
     "name": "stderr",
     "output_type": "stream",
     "text": [
      "Training Progress:  70%|██████▉   | 139/200 [1:31:08<39:52, 39.22s/it, Train Loss=0.00449, Val Loss=0.0542]"
     ]
    },
    {
     "name": "stdout",
     "output_type": "stream",
     "text": [
      "Epoch [139/200], Validation Loss: 0.0541989988\n"
     ]
    },
    {
     "name": "stderr",
     "output_type": "stream",
     "text": [
      "Training Progress:  70%|███████   | 140/200 [1:31:48<39:12, 39.21s/it, Train Loss=0.00417, Val Loss=0.0562]"
     ]
    },
    {
     "name": "stdout",
     "output_type": "stream",
     "text": [
      "Epoch [140/200], Validation Loss: 0.0562195034\n"
     ]
    },
    {
     "name": "stderr",
     "output_type": "stream",
     "text": [
      "Training Progress:  70%|███████   | 141/200 [1:32:27<38:32, 39.20s/it, Train Loss=0.00398, Val Loss=0.0553]"
     ]
    },
    {
     "name": "stdout",
     "output_type": "stream",
     "text": [
      "Epoch [141/200], Validation Loss: 0.0553296187\n"
     ]
    },
    {
     "name": "stderr",
     "output_type": "stream",
     "text": [
      "Training Progress:  71%|███████   | 142/200 [1:33:06<37:53, 39.20s/it, Train Loss=0.00388, Val Loss=0.0613]"
     ]
    },
    {
     "name": "stdout",
     "output_type": "stream",
     "text": [
      "Epoch [142/200], Validation Loss: 0.0613432812\n"
     ]
    },
    {
     "name": "stderr",
     "output_type": "stream",
     "text": [
      "Training Progress:  72%|███████▏  | 143/200 [1:33:45<37:14, 39.20s/it, Train Loss=0.00383, Val Loss=0.0556]"
     ]
    },
    {
     "name": "stdout",
     "output_type": "stream",
     "text": [
      "Epoch [143/200], Validation Loss: 0.0555561656\n"
     ]
    },
    {
     "name": "stderr",
     "output_type": "stream",
     "text": [
      "Training Progress:  72%|███████▏  | 144/200 [1:34:24<36:34, 39.19s/it, Train Loss=0.00413, Val Loss=0.0722]"
     ]
    },
    {
     "name": "stdout",
     "output_type": "stream",
     "text": [
      "Epoch [144/200], Validation Loss: 0.0721860205\n"
     ]
    },
    {
     "name": "stderr",
     "output_type": "stream",
     "text": [
      "Training Progress:  72%|███████▎  | 145/200 [1:35:04<35:55, 39.19s/it, Train Loss=0.00903, Val Loss=0.0576]"
     ]
    },
    {
     "name": "stdout",
     "output_type": "stream",
     "text": [
      "Epoch [145/200], Validation Loss: 0.0576314988\n"
     ]
    },
    {
     "name": "stderr",
     "output_type": "stream",
     "text": [
      "Training Progress:  73%|███████▎  | 146/200 [1:35:43<35:16, 39.20s/it, Train Loss=0.00774, Val Loss=0.0711]"
     ]
    },
    {
     "name": "stdout",
     "output_type": "stream",
     "text": [
      "Epoch [146/200], Validation Loss: 0.0710950593\n"
     ]
    },
    {
     "name": "stderr",
     "output_type": "stream",
     "text": [
      "Training Progress:  74%|███████▎  | 147/200 [1:36:22<34:38, 39.21s/it, Train Loss=0.0066, Val Loss=0.0667] "
     ]
    },
    {
     "name": "stdout",
     "output_type": "stream",
     "text": [
      "Epoch [147/200], Validation Loss: 0.0666811318\n"
     ]
    },
    {
     "name": "stderr",
     "output_type": "stream",
     "text": [
      "Training Progress:  74%|███████▍  | 148/200 [1:37:01<33:58, 39.21s/it, Train Loss=0.00625, Val Loss=0.0614]"
     ]
    },
    {
     "name": "stdout",
     "output_type": "stream",
     "text": [
      "Epoch [148/200], Validation Loss: 0.0614139475\n"
     ]
    },
    {
     "name": "stderr",
     "output_type": "stream",
     "text": [
      "Training Progress:  74%|███████▍  | 149/200 [1:37:40<33:19, 39.21s/it, Train Loss=0.00488, Val Loss=0.062] "
     ]
    },
    {
     "name": "stdout",
     "output_type": "stream",
     "text": [
      "Epoch [149/200], Validation Loss: 0.0620450236\n"
     ]
    },
    {
     "name": "stderr",
     "output_type": "stream",
     "text": [
      "Training Progress:  75%|███████▌  | 150/200 [1:38:20<32:39, 39.19s/it, Train Loss=0.00432, Val Loss=0.0566]"
     ]
    },
    {
     "name": "stdout",
     "output_type": "stream",
     "text": [
      "Epoch [150/200], Validation Loss: 0.0566469737\n"
     ]
    },
    {
     "name": "stderr",
     "output_type": "stream",
     "text": [
      "Training Progress:  76%|███████▌  | 151/200 [1:38:59<32:01, 39.21s/it, Train Loss=0.00406, Val Loss=0.0554]"
     ]
    },
    {
     "name": "stdout",
     "output_type": "stream",
     "text": [
      "Epoch [151/200], Validation Loss: 0.0553785644\n"
     ]
    },
    {
     "name": "stderr",
     "output_type": "stream",
     "text": [
      "Training Progress:  76%|███████▌  | 152/200 [1:39:38<31:21, 39.21s/it, Train Loss=0.00378, Val Loss=0.065] "
     ]
    },
    {
     "name": "stdout",
     "output_type": "stream",
     "text": [
      "Epoch [152/200], Validation Loss: 0.0649559127\n"
     ]
    },
    {
     "name": "stderr",
     "output_type": "stream",
     "text": [
      "Training Progress:  76%|███████▋  | 153/200 [1:40:17<30:42, 39.20s/it, Train Loss=0.00393, Val Loss=0.0564]"
     ]
    },
    {
     "name": "stdout",
     "output_type": "stream",
     "text": [
      "Epoch [153/200], Validation Loss: 0.0564032944\n"
     ]
    },
    {
     "name": "stderr",
     "output_type": "stream",
     "text": [
      "Training Progress:  77%|███████▋  | 154/200 [1:40:56<30:03, 39.20s/it, Train Loss=0.00376, Val Loss=0.0654]"
     ]
    },
    {
     "name": "stdout",
     "output_type": "stream",
     "text": [
      "Epoch [154/200], Validation Loss: 0.0653984151\n"
     ]
    },
    {
     "name": "stderr",
     "output_type": "stream",
     "text": [
      "Training Progress:  78%|███████▊  | 155/200 [1:41:36<29:23, 39.20s/it, Train Loss=0.00608, Val Loss=0.0584]"
     ]
    },
    {
     "name": "stdout",
     "output_type": "stream",
     "text": [
      "Epoch [155/200], Validation Loss: 0.0584451101\n"
     ]
    },
    {
     "name": "stderr",
     "output_type": "stream",
     "text": [
      "Training Progress:  78%|███████▊  | 156/200 [1:42:15<28:44, 39.19s/it, Train Loss=0.0107, Val Loss=0.067]  "
     ]
    },
    {
     "name": "stdout",
     "output_type": "stream",
     "text": [
      "Epoch [156/200], Validation Loss: 0.0669549375\n"
     ]
    },
    {
     "name": "stderr",
     "output_type": "stream",
     "text": [
      "Training Progress:  78%|███████▊  | 157/200 [1:42:54<28:05, 39.19s/it, Train Loss=0.00821, Val Loss=0.0617]"
     ]
    },
    {
     "name": "stdout",
     "output_type": "stream",
     "text": [
      "Epoch [157/200], Validation Loss: 0.0616816113\n"
     ]
    },
    {
     "name": "stderr",
     "output_type": "stream",
     "text": [
      "Training Progress:  79%|███████▉  | 158/200 [1:43:33<27:26, 39.20s/it, Train Loss=0.00521, Val Loss=0.0704]"
     ]
    },
    {
     "name": "stdout",
     "output_type": "stream",
     "text": [
      "Epoch [158/200], Validation Loss: 0.0703793401\n"
     ]
    },
    {
     "name": "stderr",
     "output_type": "stream",
     "text": [
      "Training Progress:  80%|███████▉  | 159/200 [1:44:12<26:47, 39.20s/it, Train Loss=0.00847, Val Loss=0.0821]"
     ]
    },
    {
     "name": "stdout",
     "output_type": "stream",
     "text": [
      "Epoch [159/200], Validation Loss: 0.0820665615\n"
     ]
    },
    {
     "name": "stderr",
     "output_type": "stream",
     "text": [
      "Training Progress:  80%|████████  | 160/200 [1:44:52<26:07, 39.19s/it, Train Loss=0.00734, Val Loss=0.0599]"
     ]
    },
    {
     "name": "stdout",
     "output_type": "stream",
     "text": [
      "Epoch [160/200], Validation Loss: 0.0598716964\n"
     ]
    },
    {
     "name": "stderr",
     "output_type": "stream",
     "text": [
      "Training Progress:  80%|████████  | 161/200 [1:45:31<25:28, 39.19s/it, Train Loss=0.00887, Val Loss=0.0597]"
     ]
    },
    {
     "name": "stdout",
     "output_type": "stream",
     "text": [
      "Epoch [161/200], Validation Loss: 0.0596911770\n"
     ]
    },
    {
     "name": "stderr",
     "output_type": "stream",
     "text": [
      "Training Progress:  81%|████████  | 162/200 [1:46:10<24:49, 39.19s/it, Train Loss=0.00551, Val Loss=0.059] "
     ]
    },
    {
     "name": "stdout",
     "output_type": "stream",
     "text": [
      "Epoch [162/200], Validation Loss: 0.0589671065\n"
     ]
    },
    {
     "name": "stderr",
     "output_type": "stream",
     "text": [
      "Training Progress:  82%|████████▏ | 163/200 [1:46:49<24:10, 39.19s/it, Train Loss=0.00609, Val Loss=0.0665]"
     ]
    },
    {
     "name": "stdout",
     "output_type": "stream",
     "text": [
      "Epoch [163/200], Validation Loss: 0.0664792865\n"
     ]
    },
    {
     "name": "stderr",
     "output_type": "stream",
     "text": [
      "Training Progress:  82%|████████▏ | 164/200 [1:47:28<23:31, 39.19s/it, Train Loss=0.00455, Val Loss=0.0601]"
     ]
    },
    {
     "name": "stdout",
     "output_type": "stream",
     "text": [
      "Epoch [164/200], Validation Loss: 0.0600686290\n"
     ]
    },
    {
     "name": "stderr",
     "output_type": "stream",
     "text": [
      "Training Progress:  82%|████████▎ | 165/200 [1:48:07<22:51, 39.19s/it, Train Loss=0.0043, Val Loss=0.0604] "
     ]
    },
    {
     "name": "stdout",
     "output_type": "stream",
     "text": [
      "Epoch [165/200], Validation Loss: 0.0603682403\n"
     ]
    },
    {
     "name": "stderr",
     "output_type": "stream",
     "text": [
      "Training Progress:  83%|████████▎ | 166/200 [1:48:47<22:12, 39.18s/it, Train Loss=0.00434, Val Loss=0.0685]"
     ]
    },
    {
     "name": "stdout",
     "output_type": "stream",
     "text": [
      "Epoch [166/200], Validation Loss: 0.0685426157\n"
     ]
    },
    {
     "name": "stderr",
     "output_type": "stream",
     "text": [
      "Training Progress:  84%|████████▎ | 167/200 [1:49:26<21:33, 39.18s/it, Train Loss=0.0039, Val Loss=0.0693] "
     ]
    },
    {
     "name": "stdout",
     "output_type": "stream",
     "text": [
      "Epoch [167/200], Validation Loss: 0.0692779764\n"
     ]
    },
    {
     "name": "stderr",
     "output_type": "stream",
     "text": [
      "Training Progress:  84%|████████▍ | 168/200 [1:50:05<20:53, 39.18s/it, Train Loss=0.00372, Val Loss=0.0659]"
     ]
    },
    {
     "name": "stdout",
     "output_type": "stream",
     "text": [
      "Epoch [168/200], Validation Loss: 0.0658868129\n"
     ]
    },
    {
     "name": "stderr",
     "output_type": "stream",
     "text": [
      "Training Progress:  84%|████████▍ | 169/200 [1:50:44<20:15, 39.20s/it, Train Loss=0.00404, Val Loss=0.0707]"
     ]
    },
    {
     "name": "stdout",
     "output_type": "stream",
     "text": [
      "Epoch [169/200], Validation Loss: 0.0706526088\n"
     ]
    },
    {
     "name": "stderr",
     "output_type": "stream",
     "text": [
      "Training Progress:  85%|████████▌ | 170/200 [1:51:23<19:35, 39.20s/it, Train Loss=0.00588, Val Loss=0.0686]"
     ]
    },
    {
     "name": "stdout",
     "output_type": "stream",
     "text": [
      "Epoch [170/200], Validation Loss: 0.0686329994\n"
     ]
    },
    {
     "name": "stderr",
     "output_type": "stream",
     "text": [
      "Training Progress:  86%|████████▌ | 171/200 [1:52:03<18:56, 39.19s/it, Train Loss=0.00445, Val Loss=0.0743]"
     ]
    },
    {
     "name": "stdout",
     "output_type": "stream",
     "text": [
      "Epoch [171/200], Validation Loss: 0.0742695756\n"
     ]
    },
    {
     "name": "stderr",
     "output_type": "stream",
     "text": [
      "Training Progress:  86%|████████▌ | 172/200 [1:52:42<18:17, 39.18s/it, Train Loss=0.00438, Val Loss=0.0722]"
     ]
    },
    {
     "name": "stdout",
     "output_type": "stream",
     "text": [
      "Epoch [172/200], Validation Loss: 0.0722319604\n"
     ]
    },
    {
     "name": "stderr",
     "output_type": "stream",
     "text": [
      "Training Progress:  86%|████████▋ | 173/200 [1:53:21<17:37, 39.18s/it, Train Loss=0.00448, Val Loss=0.0814]"
     ]
    },
    {
     "name": "stdout",
     "output_type": "stream",
     "text": [
      "Epoch [173/200], Validation Loss: 0.0813887797\n"
     ]
    },
    {
     "name": "stderr",
     "output_type": "stream",
     "text": [
      "Training Progress:  87%|████████▋ | 174/200 [1:54:00<16:58, 39.18s/it, Train Loss=0.00715, Val Loss=0.0808]"
     ]
    },
    {
     "name": "stdout",
     "output_type": "stream",
     "text": [
      "Epoch [174/200], Validation Loss: 0.0807682449\n"
     ]
    },
    {
     "name": "stderr",
     "output_type": "stream",
     "text": [
      "Training Progress:  88%|████████▊ | 175/200 [1:54:39<16:19, 39.18s/it, Train Loss=0.00624, Val Loss=0.0692]"
     ]
    },
    {
     "name": "stdout",
     "output_type": "stream",
     "text": [
      "Epoch [175/200], Validation Loss: 0.0691883838\n"
     ]
    },
    {
     "name": "stderr",
     "output_type": "stream",
     "text": [
      "Training Progress:  88%|████████▊ | 176/200 [1:55:18<15:40, 39.18s/it, Train Loss=0.00556, Val Loss=0.0549]"
     ]
    },
    {
     "name": "stdout",
     "output_type": "stream",
     "text": [
      "Epoch [176/200], Validation Loss: 0.0548723111\n"
     ]
    },
    {
     "name": "stderr",
     "output_type": "stream",
     "text": [
      "Training Progress:  88%|████████▊ | 177/200 [1:55:58<15:01, 39.20s/it, Train Loss=0.00451, Val Loss=0.0585]"
     ]
    },
    {
     "name": "stdout",
     "output_type": "stream",
     "text": [
      "Epoch [177/200], Validation Loss: 0.0584973005\n"
     ]
    },
    {
     "name": "stderr",
     "output_type": "stream",
     "text": [
      "Training Progress:  89%|████████▉ | 178/200 [1:56:37<14:22, 39.20s/it, Train Loss=0.00406, Val Loss=0.0571]"
     ]
    },
    {
     "name": "stdout",
     "output_type": "stream",
     "text": [
      "Epoch [178/200], Validation Loss: 0.0570954867\n"
     ]
    },
    {
     "name": "stderr",
     "output_type": "stream",
     "text": [
      "Training Progress:  90%|████████▉ | 179/200 [1:57:16<13:43, 39.20s/it, Train Loss=0.00407, Val Loss=0.0662]"
     ]
    },
    {
     "name": "stdout",
     "output_type": "stream",
     "text": [
      "Epoch [179/200], Validation Loss: 0.0661973184\n"
     ]
    },
    {
     "name": "stderr",
     "output_type": "stream",
     "text": [
      "Training Progress:  90%|█████████ | 180/200 [1:57:55<13:03, 39.19s/it, Train Loss=0.00378, Val Loss=0.0658]"
     ]
    },
    {
     "name": "stdout",
     "output_type": "stream",
     "text": [
      "Epoch [180/200], Validation Loss: 0.0657833195\n"
     ]
    },
    {
     "name": "stderr",
     "output_type": "stream",
     "text": [
      "Training Progress:  90%|█████████ | 181/200 [1:58:34<12:24, 39.19s/it, Train Loss=0.00698, Val Loss=0.0777]"
     ]
    },
    {
     "name": "stdout",
     "output_type": "stream",
     "text": [
      "Epoch [181/200], Validation Loss: 0.0776906221\n"
     ]
    },
    {
     "name": "stderr",
     "output_type": "stream",
     "text": [
      "Training Progress:  91%|█████████ | 182/200 [1:59:14<11:45, 39.20s/it, Train Loss=0.00571, Val Loss=0.0618]"
     ]
    },
    {
     "name": "stdout",
     "output_type": "stream",
     "text": [
      "Epoch [182/200], Validation Loss: 0.0617526054\n"
     ]
    },
    {
     "name": "stderr",
     "output_type": "stream",
     "text": [
      "Training Progress:  92%|█████████▏| 183/200 [1:59:53<11:06, 39.19s/it, Train Loss=0.0191, Val Loss=0.0834] "
     ]
    },
    {
     "name": "stdout",
     "output_type": "stream",
     "text": [
      "Epoch [183/200], Validation Loss: 0.0833654082\n"
     ]
    },
    {
     "name": "stderr",
     "output_type": "stream",
     "text": [
      "Training Progress:  92%|█████████▏| 184/200 [2:00:32<10:27, 39.20s/it, Train Loss=0.0119, Val Loss=0.0527]"
     ]
    },
    {
     "name": "stdout",
     "output_type": "stream",
     "text": [
      "Epoch [184/200], Validation Loss: 0.0527138742\n"
     ]
    },
    {
     "name": "stderr",
     "output_type": "stream",
     "text": [
      "Training Progress:  92%|█████████▎| 185/200 [2:01:11<09:48, 39.23s/it, Train Loss=0.00639, Val Loss=0.0618]"
     ]
    },
    {
     "name": "stdout",
     "output_type": "stream",
     "text": [
      "Epoch [185/200], Validation Loss: 0.0617773713\n"
     ]
    },
    {
     "name": "stderr",
     "output_type": "stream",
     "text": [
      "Training Progress:  93%|█████████▎| 186/200 [2:01:51<09:08, 39.21s/it, Train Loss=0.00487, Val Loss=0.0501]"
     ]
    },
    {
     "name": "stdout",
     "output_type": "stream",
     "text": [
      "Epoch [186/200], Validation Loss: 0.0501107720\n"
     ]
    },
    {
     "name": "stderr",
     "output_type": "stream",
     "text": [
      "Training Progress:  94%|█████████▎| 187/200 [2:02:30<08:29, 39.22s/it, Train Loss=0.00519, Val Loss=0.0661]"
     ]
    },
    {
     "name": "stdout",
     "output_type": "stream",
     "text": [
      "Epoch [187/200], Validation Loss: 0.0660578389\n"
     ]
    },
    {
     "name": "stderr",
     "output_type": "stream",
     "text": [
      "Training Progress:  94%|█████████▍| 188/200 [2:03:09<07:50, 39.23s/it, Train Loss=0.00525, Val Loss=0.0625]"
     ]
    },
    {
     "name": "stdout",
     "output_type": "stream",
     "text": [
      "Epoch [188/200], Validation Loss: 0.0625468203\n"
     ]
    },
    {
     "name": "stderr",
     "output_type": "stream",
     "text": [
      "Training Progress:  94%|█████████▍| 189/200 [2:03:48<07:11, 39.23s/it, Train Loss=0.00418, Val Loss=0.0596]"
     ]
    },
    {
     "name": "stdout",
     "output_type": "stream",
     "text": [
      "Epoch [189/200], Validation Loss: 0.0596416480\n"
     ]
    },
    {
     "name": "stderr",
     "output_type": "stream",
     "text": [
      "Training Progress:  95%|█████████▌| 190/200 [2:04:27<06:32, 39.22s/it, Train Loss=0.0037, Val Loss=0.0595] "
     ]
    },
    {
     "name": "stdout",
     "output_type": "stream",
     "text": [
      "Epoch [190/200], Validation Loss: 0.0594787998\n"
     ]
    },
    {
     "name": "stderr",
     "output_type": "stream",
     "text": [
      "Training Progress:  96%|█████████▌| 191/200 [2:05:07<05:52, 39.22s/it, Train Loss=0.0037, Val Loss=0.059] "
     ]
    },
    {
     "name": "stdout",
     "output_type": "stream",
     "text": [
      "Epoch [191/200], Validation Loss: 0.0589583995\n"
     ]
    },
    {
     "name": "stderr",
     "output_type": "stream",
     "text": [
      "Training Progress:  96%|█████████▌| 192/200 [2:05:46<05:13, 39.20s/it, Train Loss=0.0035, Val Loss=0.0707]"
     ]
    },
    {
     "name": "stdout",
     "output_type": "stream",
     "text": [
      "Epoch [192/200], Validation Loss: 0.0707182527\n"
     ]
    },
    {
     "name": "stderr",
     "output_type": "stream",
     "text": [
      "Training Progress:  96%|█████████▋| 193/200 [2:06:25<04:34, 39.20s/it, Train Loss=0.00348, Val Loss=0.0634]"
     ]
    },
    {
     "name": "stdout",
     "output_type": "stream",
     "text": [
      "Epoch [193/200], Validation Loss: 0.0633610228\n"
     ]
    },
    {
     "name": "stderr",
     "output_type": "stream",
     "text": [
      "Training Progress:  97%|█████████▋| 194/200 [2:07:04<03:55, 39.21s/it, Train Loss=0.00342, Val Loss=0.066] "
     ]
    },
    {
     "name": "stdout",
     "output_type": "stream",
     "text": [
      "Epoch [194/200], Validation Loss: 0.0659802853\n"
     ]
    },
    {
     "name": "stderr",
     "output_type": "stream",
     "text": [
      "Training Progress:  98%|█████████▊| 195/200 [2:07:43<03:16, 39.20s/it, Train Loss=0.0033, Val Loss=0.0644]"
     ]
    },
    {
     "name": "stdout",
     "output_type": "stream",
     "text": [
      "Epoch [195/200], Validation Loss: 0.0643602082\n"
     ]
    },
    {
     "name": "stderr",
     "output_type": "stream",
     "text": [
      "Training Progress:  98%|█████████▊| 196/200 [2:08:23<02:36, 39.20s/it, Train Loss=0.00409, Val Loss=0.0701]"
     ]
    },
    {
     "name": "stdout",
     "output_type": "stream",
     "text": [
      "Epoch [196/200], Validation Loss: 0.0701342585\n"
     ]
    },
    {
     "name": "stderr",
     "output_type": "stream",
     "text": [
      "Training Progress:  98%|█████████▊| 197/200 [2:09:02<01:57, 39.20s/it, Train Loss=0.00335, Val Loss=0.0705]"
     ]
    },
    {
     "name": "stdout",
     "output_type": "stream",
     "text": [
      "Epoch [197/200], Validation Loss: 0.0704585657\n"
     ]
    },
    {
     "name": "stderr",
     "output_type": "stream",
     "text": [
      "Training Progress:  99%|█████████▉| 198/200 [2:09:41<01:18, 39.20s/it, Train Loss=0.00349, Val Loss=0.0598]"
     ]
    },
    {
     "name": "stdout",
     "output_type": "stream",
     "text": [
      "Epoch [198/200], Validation Loss: 0.0598422836\n"
     ]
    },
    {
     "name": "stderr",
     "output_type": "stream",
     "text": [
      "Training Progress: 100%|█████████▉| 199/200 [2:10:20<00:39, 39.20s/it, Train Loss=0.00432, Val Loss=0.0595]"
     ]
    },
    {
     "name": "stdout",
     "output_type": "stream",
     "text": [
      "Epoch [199/200], Validation Loss: 0.0595428152\n"
     ]
    },
    {
     "name": "stderr",
     "output_type": "stream",
     "text": [
      "Training Progress: 100%|██████████| 200/200 [2:10:59<00:00, 39.30s/it, Train Loss=0.00456, Val Loss=0.0613]"
     ]
    },
    {
     "name": "stdout",
     "output_type": "stream",
     "text": [
      "Epoch [200/200], Validation Loss: 0.0613406011\n"
     ]
    },
    {
     "name": "stderr",
     "output_type": "stream",
     "text": [
      "\n"
     ]
    }
   ],
   "source": [
    "train(\n",
    "    model=model,\n",
    "    train_loader=train_loader,\n",
    "    val_loader=val_loader,\n",
    "    optimizer=optimizer,\n",
    "    criterion=nn.CrossEntropyLoss(),\n",
    "    num_epochs=EPOCHS,\n",
    "    device=device,\n",
    "    save_path=SAVE_PATH,\n",
    "    wandb=wandb  # Pass wandb object if logging is required, or set to None\n",
    ")"
   ]
  },
  {
   "cell_type": "code",
   "execution_count": 11,
   "metadata": {},
   "outputs": [
    {
     "name": "stderr",
     "output_type": "stream",
     "text": [
      "C:\\Users\\Administrator\\AppData\\Local\\Temp\\ipykernel_13264\\2789154915.py:1: FutureWarning: You are using `torch.load` with `weights_only=False` (the current default value), which uses the default pickle module implicitly. It is possible to construct malicious pickle data which will execute arbitrary code during unpickling (See https://github.com/pytorch/pytorch/blob/main/SECURITY.md#untrusted-models for more details). In a future release, the default value for `weights_only` will be flipped to `True`. This limits the functions that could be executed during unpickling. Arbitrary objects will no longer be allowed to be loaded via this mode unless they are explicitly allowlisted by the user via `torch.serialization.add_safe_globals`. We recommend you start setting `weights_only=True` for any use case where you don't have full control of the loaded file. Please open an issue on GitHub for any issues related to this experimental feature.\n",
      "  checkpoint = torch.load(SAVE_PATH)\n"
     ]
    },
    {
     "data": {
      "text/plain": [
       "Unet(\n",
       "  (encoder): ResNetEncoder(\n",
       "    (conv1): Conv2d(3, 64, kernel_size=(7, 7), stride=(2, 2), padding=(3, 3), bias=False)\n",
       "    (bn1): BatchNorm2d(64, eps=1e-05, momentum=0.1, affine=True, track_running_stats=True)\n",
       "    (relu): ReLU(inplace=True)\n",
       "    (maxpool): MaxPool2d(kernel_size=3, stride=2, padding=1, dilation=1, ceil_mode=False)\n",
       "    (layer1): Sequential(\n",
       "      (0): Bottleneck(\n",
       "        (conv1): Conv2d(64, 64, kernel_size=(1, 1), stride=(1, 1), bias=False)\n",
       "        (bn1): BatchNorm2d(64, eps=1e-05, momentum=0.1, affine=True, track_running_stats=True)\n",
       "        (conv2): Conv2d(64, 64, kernel_size=(3, 3), stride=(1, 1), padding=(1, 1), bias=False)\n",
       "        (bn2): BatchNorm2d(64, eps=1e-05, momentum=0.1, affine=True, track_running_stats=True)\n",
       "        (conv3): Conv2d(64, 256, kernel_size=(1, 1), stride=(1, 1), bias=False)\n",
       "        (bn3): BatchNorm2d(256, eps=1e-05, momentum=0.1, affine=True, track_running_stats=True)\n",
       "        (relu): ReLU(inplace=True)\n",
       "        (downsample): Sequential(\n",
       "          (0): Conv2d(64, 256, kernel_size=(1, 1), stride=(1, 1), bias=False)\n",
       "          (1): BatchNorm2d(256, eps=1e-05, momentum=0.1, affine=True, track_running_stats=True)\n",
       "        )\n",
       "      )\n",
       "      (1): Bottleneck(\n",
       "        (conv1): Conv2d(256, 64, kernel_size=(1, 1), stride=(1, 1), bias=False)\n",
       "        (bn1): BatchNorm2d(64, eps=1e-05, momentum=0.1, affine=True, track_running_stats=True)\n",
       "        (conv2): Conv2d(64, 64, kernel_size=(3, 3), stride=(1, 1), padding=(1, 1), bias=False)\n",
       "        (bn2): BatchNorm2d(64, eps=1e-05, momentum=0.1, affine=True, track_running_stats=True)\n",
       "        (conv3): Conv2d(64, 256, kernel_size=(1, 1), stride=(1, 1), bias=False)\n",
       "        (bn3): BatchNorm2d(256, eps=1e-05, momentum=0.1, affine=True, track_running_stats=True)\n",
       "        (relu): ReLU(inplace=True)\n",
       "      )\n",
       "      (2): Bottleneck(\n",
       "        (conv1): Conv2d(256, 64, kernel_size=(1, 1), stride=(1, 1), bias=False)\n",
       "        (bn1): BatchNorm2d(64, eps=1e-05, momentum=0.1, affine=True, track_running_stats=True)\n",
       "        (conv2): Conv2d(64, 64, kernel_size=(3, 3), stride=(1, 1), padding=(1, 1), bias=False)\n",
       "        (bn2): BatchNorm2d(64, eps=1e-05, momentum=0.1, affine=True, track_running_stats=True)\n",
       "        (conv3): Conv2d(64, 256, kernel_size=(1, 1), stride=(1, 1), bias=False)\n",
       "        (bn3): BatchNorm2d(256, eps=1e-05, momentum=0.1, affine=True, track_running_stats=True)\n",
       "        (relu): ReLU(inplace=True)\n",
       "      )\n",
       "    )\n",
       "    (layer2): Sequential(\n",
       "      (0): Bottleneck(\n",
       "        (conv1): Conv2d(256, 128, kernel_size=(1, 1), stride=(1, 1), bias=False)\n",
       "        (bn1): BatchNorm2d(128, eps=1e-05, momentum=0.1, affine=True, track_running_stats=True)\n",
       "        (conv2): Conv2d(128, 128, kernel_size=(3, 3), stride=(2, 2), padding=(1, 1), bias=False)\n",
       "        (bn2): BatchNorm2d(128, eps=1e-05, momentum=0.1, affine=True, track_running_stats=True)\n",
       "        (conv3): Conv2d(128, 512, kernel_size=(1, 1), stride=(1, 1), bias=False)\n",
       "        (bn3): BatchNorm2d(512, eps=1e-05, momentum=0.1, affine=True, track_running_stats=True)\n",
       "        (relu): ReLU(inplace=True)\n",
       "        (downsample): Sequential(\n",
       "          (0): Conv2d(256, 512, kernel_size=(1, 1), stride=(2, 2), bias=False)\n",
       "          (1): BatchNorm2d(512, eps=1e-05, momentum=0.1, affine=True, track_running_stats=True)\n",
       "        )\n",
       "      )\n",
       "      (1): Bottleneck(\n",
       "        (conv1): Conv2d(512, 128, kernel_size=(1, 1), stride=(1, 1), bias=False)\n",
       "        (bn1): BatchNorm2d(128, eps=1e-05, momentum=0.1, affine=True, track_running_stats=True)\n",
       "        (conv2): Conv2d(128, 128, kernel_size=(3, 3), stride=(1, 1), padding=(1, 1), bias=False)\n",
       "        (bn2): BatchNorm2d(128, eps=1e-05, momentum=0.1, affine=True, track_running_stats=True)\n",
       "        (conv3): Conv2d(128, 512, kernel_size=(1, 1), stride=(1, 1), bias=False)\n",
       "        (bn3): BatchNorm2d(512, eps=1e-05, momentum=0.1, affine=True, track_running_stats=True)\n",
       "        (relu): ReLU(inplace=True)\n",
       "      )\n",
       "      (2): Bottleneck(\n",
       "        (conv1): Conv2d(512, 128, kernel_size=(1, 1), stride=(1, 1), bias=False)\n",
       "        (bn1): BatchNorm2d(128, eps=1e-05, momentum=0.1, affine=True, track_running_stats=True)\n",
       "        (conv2): Conv2d(128, 128, kernel_size=(3, 3), stride=(1, 1), padding=(1, 1), bias=False)\n",
       "        (bn2): BatchNorm2d(128, eps=1e-05, momentum=0.1, affine=True, track_running_stats=True)\n",
       "        (conv3): Conv2d(128, 512, kernel_size=(1, 1), stride=(1, 1), bias=False)\n",
       "        (bn3): BatchNorm2d(512, eps=1e-05, momentum=0.1, affine=True, track_running_stats=True)\n",
       "        (relu): ReLU(inplace=True)\n",
       "      )\n",
       "      (3): Bottleneck(\n",
       "        (conv1): Conv2d(512, 128, kernel_size=(1, 1), stride=(1, 1), bias=False)\n",
       "        (bn1): BatchNorm2d(128, eps=1e-05, momentum=0.1, affine=True, track_running_stats=True)\n",
       "        (conv2): Conv2d(128, 128, kernel_size=(3, 3), stride=(1, 1), padding=(1, 1), bias=False)\n",
       "        (bn2): BatchNorm2d(128, eps=1e-05, momentum=0.1, affine=True, track_running_stats=True)\n",
       "        (conv3): Conv2d(128, 512, kernel_size=(1, 1), stride=(1, 1), bias=False)\n",
       "        (bn3): BatchNorm2d(512, eps=1e-05, momentum=0.1, affine=True, track_running_stats=True)\n",
       "        (relu): ReLU(inplace=True)\n",
       "      )\n",
       "      (4): Bottleneck(\n",
       "        (conv1): Conv2d(512, 128, kernel_size=(1, 1), stride=(1, 1), bias=False)\n",
       "        (bn1): BatchNorm2d(128, eps=1e-05, momentum=0.1, affine=True, track_running_stats=True)\n",
       "        (conv2): Conv2d(128, 128, kernel_size=(3, 3), stride=(1, 1), padding=(1, 1), bias=False)\n",
       "        (bn2): BatchNorm2d(128, eps=1e-05, momentum=0.1, affine=True, track_running_stats=True)\n",
       "        (conv3): Conv2d(128, 512, kernel_size=(1, 1), stride=(1, 1), bias=False)\n",
       "        (bn3): BatchNorm2d(512, eps=1e-05, momentum=0.1, affine=True, track_running_stats=True)\n",
       "        (relu): ReLU(inplace=True)\n",
       "      )\n",
       "      (5): Bottleneck(\n",
       "        (conv1): Conv2d(512, 128, kernel_size=(1, 1), stride=(1, 1), bias=False)\n",
       "        (bn1): BatchNorm2d(128, eps=1e-05, momentum=0.1, affine=True, track_running_stats=True)\n",
       "        (conv2): Conv2d(128, 128, kernel_size=(3, 3), stride=(1, 1), padding=(1, 1), bias=False)\n",
       "        (bn2): BatchNorm2d(128, eps=1e-05, momentum=0.1, affine=True, track_running_stats=True)\n",
       "        (conv3): Conv2d(128, 512, kernel_size=(1, 1), stride=(1, 1), bias=False)\n",
       "        (bn3): BatchNorm2d(512, eps=1e-05, momentum=0.1, affine=True, track_running_stats=True)\n",
       "        (relu): ReLU(inplace=True)\n",
       "      )\n",
       "      (6): Bottleneck(\n",
       "        (conv1): Conv2d(512, 128, kernel_size=(1, 1), stride=(1, 1), bias=False)\n",
       "        (bn1): BatchNorm2d(128, eps=1e-05, momentum=0.1, affine=True, track_running_stats=True)\n",
       "        (conv2): Conv2d(128, 128, kernel_size=(3, 3), stride=(1, 1), padding=(1, 1), bias=False)\n",
       "        (bn2): BatchNorm2d(128, eps=1e-05, momentum=0.1, affine=True, track_running_stats=True)\n",
       "        (conv3): Conv2d(128, 512, kernel_size=(1, 1), stride=(1, 1), bias=False)\n",
       "        (bn3): BatchNorm2d(512, eps=1e-05, momentum=0.1, affine=True, track_running_stats=True)\n",
       "        (relu): ReLU(inplace=True)\n",
       "      )\n",
       "      (7): Bottleneck(\n",
       "        (conv1): Conv2d(512, 128, kernel_size=(1, 1), stride=(1, 1), bias=False)\n",
       "        (bn1): BatchNorm2d(128, eps=1e-05, momentum=0.1, affine=True, track_running_stats=True)\n",
       "        (conv2): Conv2d(128, 128, kernel_size=(3, 3), stride=(1, 1), padding=(1, 1), bias=False)\n",
       "        (bn2): BatchNorm2d(128, eps=1e-05, momentum=0.1, affine=True, track_running_stats=True)\n",
       "        (conv3): Conv2d(128, 512, kernel_size=(1, 1), stride=(1, 1), bias=False)\n",
       "        (bn3): BatchNorm2d(512, eps=1e-05, momentum=0.1, affine=True, track_running_stats=True)\n",
       "        (relu): ReLU(inplace=True)\n",
       "      )\n",
       "    )\n",
       "    (layer3): Sequential(\n",
       "      (0): Bottleneck(\n",
       "        (conv1): Conv2d(512, 256, kernel_size=(1, 1), stride=(1, 1), bias=False)\n",
       "        (bn1): BatchNorm2d(256, eps=1e-05, momentum=0.1, affine=True, track_running_stats=True)\n",
       "        (conv2): Conv2d(256, 256, kernel_size=(3, 3), stride=(2, 2), padding=(1, 1), bias=False)\n",
       "        (bn2): BatchNorm2d(256, eps=1e-05, momentum=0.1, affine=True, track_running_stats=True)\n",
       "        (conv3): Conv2d(256, 1024, kernel_size=(1, 1), stride=(1, 1), bias=False)\n",
       "        (bn3): BatchNorm2d(1024, eps=1e-05, momentum=0.1, affine=True, track_running_stats=True)\n",
       "        (relu): ReLU(inplace=True)\n",
       "        (downsample): Sequential(\n",
       "          (0): Conv2d(512, 1024, kernel_size=(1, 1), stride=(2, 2), bias=False)\n",
       "          (1): BatchNorm2d(1024, eps=1e-05, momentum=0.1, affine=True, track_running_stats=True)\n",
       "        )\n",
       "      )\n",
       "      (1): Bottleneck(\n",
       "        (conv1): Conv2d(1024, 256, kernel_size=(1, 1), stride=(1, 1), bias=False)\n",
       "        (bn1): BatchNorm2d(256, eps=1e-05, momentum=0.1, affine=True, track_running_stats=True)\n",
       "        (conv2): Conv2d(256, 256, kernel_size=(3, 3), stride=(1, 1), padding=(1, 1), bias=False)\n",
       "        (bn2): BatchNorm2d(256, eps=1e-05, momentum=0.1, affine=True, track_running_stats=True)\n",
       "        (conv3): Conv2d(256, 1024, kernel_size=(1, 1), stride=(1, 1), bias=False)\n",
       "        (bn3): BatchNorm2d(1024, eps=1e-05, momentum=0.1, affine=True, track_running_stats=True)\n",
       "        (relu): ReLU(inplace=True)\n",
       "      )\n",
       "      (2): Bottleneck(\n",
       "        (conv1): Conv2d(1024, 256, kernel_size=(1, 1), stride=(1, 1), bias=False)\n",
       "        (bn1): BatchNorm2d(256, eps=1e-05, momentum=0.1, affine=True, track_running_stats=True)\n",
       "        (conv2): Conv2d(256, 256, kernel_size=(3, 3), stride=(1, 1), padding=(1, 1), bias=False)\n",
       "        (bn2): BatchNorm2d(256, eps=1e-05, momentum=0.1, affine=True, track_running_stats=True)\n",
       "        (conv3): Conv2d(256, 1024, kernel_size=(1, 1), stride=(1, 1), bias=False)\n",
       "        (bn3): BatchNorm2d(1024, eps=1e-05, momentum=0.1, affine=True, track_running_stats=True)\n",
       "        (relu): ReLU(inplace=True)\n",
       "      )\n",
       "      (3): Bottleneck(\n",
       "        (conv1): Conv2d(1024, 256, kernel_size=(1, 1), stride=(1, 1), bias=False)\n",
       "        (bn1): BatchNorm2d(256, eps=1e-05, momentum=0.1, affine=True, track_running_stats=True)\n",
       "        (conv2): Conv2d(256, 256, kernel_size=(3, 3), stride=(1, 1), padding=(1, 1), bias=False)\n",
       "        (bn2): BatchNorm2d(256, eps=1e-05, momentum=0.1, affine=True, track_running_stats=True)\n",
       "        (conv3): Conv2d(256, 1024, kernel_size=(1, 1), stride=(1, 1), bias=False)\n",
       "        (bn3): BatchNorm2d(1024, eps=1e-05, momentum=0.1, affine=True, track_running_stats=True)\n",
       "        (relu): ReLU(inplace=True)\n",
       "      )\n",
       "      (4): Bottleneck(\n",
       "        (conv1): Conv2d(1024, 256, kernel_size=(1, 1), stride=(1, 1), bias=False)\n",
       "        (bn1): BatchNorm2d(256, eps=1e-05, momentum=0.1, affine=True, track_running_stats=True)\n",
       "        (conv2): Conv2d(256, 256, kernel_size=(3, 3), stride=(1, 1), padding=(1, 1), bias=False)\n",
       "        (bn2): BatchNorm2d(256, eps=1e-05, momentum=0.1, affine=True, track_running_stats=True)\n",
       "        (conv3): Conv2d(256, 1024, kernel_size=(1, 1), stride=(1, 1), bias=False)\n",
       "        (bn3): BatchNorm2d(1024, eps=1e-05, momentum=0.1, affine=True, track_running_stats=True)\n",
       "        (relu): ReLU(inplace=True)\n",
       "      )\n",
       "      (5): Bottleneck(\n",
       "        (conv1): Conv2d(1024, 256, kernel_size=(1, 1), stride=(1, 1), bias=False)\n",
       "        (bn1): BatchNorm2d(256, eps=1e-05, momentum=0.1, affine=True, track_running_stats=True)\n",
       "        (conv2): Conv2d(256, 256, kernel_size=(3, 3), stride=(1, 1), padding=(1, 1), bias=False)\n",
       "        (bn2): BatchNorm2d(256, eps=1e-05, momentum=0.1, affine=True, track_running_stats=True)\n",
       "        (conv3): Conv2d(256, 1024, kernel_size=(1, 1), stride=(1, 1), bias=False)\n",
       "        (bn3): BatchNorm2d(1024, eps=1e-05, momentum=0.1, affine=True, track_running_stats=True)\n",
       "        (relu): ReLU(inplace=True)\n",
       "      )\n",
       "      (6): Bottleneck(\n",
       "        (conv1): Conv2d(1024, 256, kernel_size=(1, 1), stride=(1, 1), bias=False)\n",
       "        (bn1): BatchNorm2d(256, eps=1e-05, momentum=0.1, affine=True, track_running_stats=True)\n",
       "        (conv2): Conv2d(256, 256, kernel_size=(3, 3), stride=(1, 1), padding=(1, 1), bias=False)\n",
       "        (bn2): BatchNorm2d(256, eps=1e-05, momentum=0.1, affine=True, track_running_stats=True)\n",
       "        (conv3): Conv2d(256, 1024, kernel_size=(1, 1), stride=(1, 1), bias=False)\n",
       "        (bn3): BatchNorm2d(1024, eps=1e-05, momentum=0.1, affine=True, track_running_stats=True)\n",
       "        (relu): ReLU(inplace=True)\n",
       "      )\n",
       "      (7): Bottleneck(\n",
       "        (conv1): Conv2d(1024, 256, kernel_size=(1, 1), stride=(1, 1), bias=False)\n",
       "        (bn1): BatchNorm2d(256, eps=1e-05, momentum=0.1, affine=True, track_running_stats=True)\n",
       "        (conv2): Conv2d(256, 256, kernel_size=(3, 3), stride=(1, 1), padding=(1, 1), bias=False)\n",
       "        (bn2): BatchNorm2d(256, eps=1e-05, momentum=0.1, affine=True, track_running_stats=True)\n",
       "        (conv3): Conv2d(256, 1024, kernel_size=(1, 1), stride=(1, 1), bias=False)\n",
       "        (bn3): BatchNorm2d(1024, eps=1e-05, momentum=0.1, affine=True, track_running_stats=True)\n",
       "        (relu): ReLU(inplace=True)\n",
       "      )\n",
       "      (8): Bottleneck(\n",
       "        (conv1): Conv2d(1024, 256, kernel_size=(1, 1), stride=(1, 1), bias=False)\n",
       "        (bn1): BatchNorm2d(256, eps=1e-05, momentum=0.1, affine=True, track_running_stats=True)\n",
       "        (conv2): Conv2d(256, 256, kernel_size=(3, 3), stride=(1, 1), padding=(1, 1), bias=False)\n",
       "        (bn2): BatchNorm2d(256, eps=1e-05, momentum=0.1, affine=True, track_running_stats=True)\n",
       "        (conv3): Conv2d(256, 1024, kernel_size=(1, 1), stride=(1, 1), bias=False)\n",
       "        (bn3): BatchNorm2d(1024, eps=1e-05, momentum=0.1, affine=True, track_running_stats=True)\n",
       "        (relu): ReLU(inplace=True)\n",
       "      )\n",
       "      (9): Bottleneck(\n",
       "        (conv1): Conv2d(1024, 256, kernel_size=(1, 1), stride=(1, 1), bias=False)\n",
       "        (bn1): BatchNorm2d(256, eps=1e-05, momentum=0.1, affine=True, track_running_stats=True)\n",
       "        (conv2): Conv2d(256, 256, kernel_size=(3, 3), stride=(1, 1), padding=(1, 1), bias=False)\n",
       "        (bn2): BatchNorm2d(256, eps=1e-05, momentum=0.1, affine=True, track_running_stats=True)\n",
       "        (conv3): Conv2d(256, 1024, kernel_size=(1, 1), stride=(1, 1), bias=False)\n",
       "        (bn3): BatchNorm2d(1024, eps=1e-05, momentum=0.1, affine=True, track_running_stats=True)\n",
       "        (relu): ReLU(inplace=True)\n",
       "      )\n",
       "      (10): Bottleneck(\n",
       "        (conv1): Conv2d(1024, 256, kernel_size=(1, 1), stride=(1, 1), bias=False)\n",
       "        (bn1): BatchNorm2d(256, eps=1e-05, momentum=0.1, affine=True, track_running_stats=True)\n",
       "        (conv2): Conv2d(256, 256, kernel_size=(3, 3), stride=(1, 1), padding=(1, 1), bias=False)\n",
       "        (bn2): BatchNorm2d(256, eps=1e-05, momentum=0.1, affine=True, track_running_stats=True)\n",
       "        (conv3): Conv2d(256, 1024, kernel_size=(1, 1), stride=(1, 1), bias=False)\n",
       "        (bn3): BatchNorm2d(1024, eps=1e-05, momentum=0.1, affine=True, track_running_stats=True)\n",
       "        (relu): ReLU(inplace=True)\n",
       "      )\n",
       "      (11): Bottleneck(\n",
       "        (conv1): Conv2d(1024, 256, kernel_size=(1, 1), stride=(1, 1), bias=False)\n",
       "        (bn1): BatchNorm2d(256, eps=1e-05, momentum=0.1, affine=True, track_running_stats=True)\n",
       "        (conv2): Conv2d(256, 256, kernel_size=(3, 3), stride=(1, 1), padding=(1, 1), bias=False)\n",
       "        (bn2): BatchNorm2d(256, eps=1e-05, momentum=0.1, affine=True, track_running_stats=True)\n",
       "        (conv3): Conv2d(256, 1024, kernel_size=(1, 1), stride=(1, 1), bias=False)\n",
       "        (bn3): BatchNorm2d(1024, eps=1e-05, momentum=0.1, affine=True, track_running_stats=True)\n",
       "        (relu): ReLU(inplace=True)\n",
       "      )\n",
       "      (12): Bottleneck(\n",
       "        (conv1): Conv2d(1024, 256, kernel_size=(1, 1), stride=(1, 1), bias=False)\n",
       "        (bn1): BatchNorm2d(256, eps=1e-05, momentum=0.1, affine=True, track_running_stats=True)\n",
       "        (conv2): Conv2d(256, 256, kernel_size=(3, 3), stride=(1, 1), padding=(1, 1), bias=False)\n",
       "        (bn2): BatchNorm2d(256, eps=1e-05, momentum=0.1, affine=True, track_running_stats=True)\n",
       "        (conv3): Conv2d(256, 1024, kernel_size=(1, 1), stride=(1, 1), bias=False)\n",
       "        (bn3): BatchNorm2d(1024, eps=1e-05, momentum=0.1, affine=True, track_running_stats=True)\n",
       "        (relu): ReLU(inplace=True)\n",
       "      )\n",
       "      (13): Bottleneck(\n",
       "        (conv1): Conv2d(1024, 256, kernel_size=(1, 1), stride=(1, 1), bias=False)\n",
       "        (bn1): BatchNorm2d(256, eps=1e-05, momentum=0.1, affine=True, track_running_stats=True)\n",
       "        (conv2): Conv2d(256, 256, kernel_size=(3, 3), stride=(1, 1), padding=(1, 1), bias=False)\n",
       "        (bn2): BatchNorm2d(256, eps=1e-05, momentum=0.1, affine=True, track_running_stats=True)\n",
       "        (conv3): Conv2d(256, 1024, kernel_size=(1, 1), stride=(1, 1), bias=False)\n",
       "        (bn3): BatchNorm2d(1024, eps=1e-05, momentum=0.1, affine=True, track_running_stats=True)\n",
       "        (relu): ReLU(inplace=True)\n",
       "      )\n",
       "      (14): Bottleneck(\n",
       "        (conv1): Conv2d(1024, 256, kernel_size=(1, 1), stride=(1, 1), bias=False)\n",
       "        (bn1): BatchNorm2d(256, eps=1e-05, momentum=0.1, affine=True, track_running_stats=True)\n",
       "        (conv2): Conv2d(256, 256, kernel_size=(3, 3), stride=(1, 1), padding=(1, 1), bias=False)\n",
       "        (bn2): BatchNorm2d(256, eps=1e-05, momentum=0.1, affine=True, track_running_stats=True)\n",
       "        (conv3): Conv2d(256, 1024, kernel_size=(1, 1), stride=(1, 1), bias=False)\n",
       "        (bn3): BatchNorm2d(1024, eps=1e-05, momentum=0.1, affine=True, track_running_stats=True)\n",
       "        (relu): ReLU(inplace=True)\n",
       "      )\n",
       "      (15): Bottleneck(\n",
       "        (conv1): Conv2d(1024, 256, kernel_size=(1, 1), stride=(1, 1), bias=False)\n",
       "        (bn1): BatchNorm2d(256, eps=1e-05, momentum=0.1, affine=True, track_running_stats=True)\n",
       "        (conv2): Conv2d(256, 256, kernel_size=(3, 3), stride=(1, 1), padding=(1, 1), bias=False)\n",
       "        (bn2): BatchNorm2d(256, eps=1e-05, momentum=0.1, affine=True, track_running_stats=True)\n",
       "        (conv3): Conv2d(256, 1024, kernel_size=(1, 1), stride=(1, 1), bias=False)\n",
       "        (bn3): BatchNorm2d(1024, eps=1e-05, momentum=0.1, affine=True, track_running_stats=True)\n",
       "        (relu): ReLU(inplace=True)\n",
       "      )\n",
       "      (16): Bottleneck(\n",
       "        (conv1): Conv2d(1024, 256, kernel_size=(1, 1), stride=(1, 1), bias=False)\n",
       "        (bn1): BatchNorm2d(256, eps=1e-05, momentum=0.1, affine=True, track_running_stats=True)\n",
       "        (conv2): Conv2d(256, 256, kernel_size=(3, 3), stride=(1, 1), padding=(1, 1), bias=False)\n",
       "        (bn2): BatchNorm2d(256, eps=1e-05, momentum=0.1, affine=True, track_running_stats=True)\n",
       "        (conv3): Conv2d(256, 1024, kernel_size=(1, 1), stride=(1, 1), bias=False)\n",
       "        (bn3): BatchNorm2d(1024, eps=1e-05, momentum=0.1, affine=True, track_running_stats=True)\n",
       "        (relu): ReLU(inplace=True)\n",
       "      )\n",
       "      (17): Bottleneck(\n",
       "        (conv1): Conv2d(1024, 256, kernel_size=(1, 1), stride=(1, 1), bias=False)\n",
       "        (bn1): BatchNorm2d(256, eps=1e-05, momentum=0.1, affine=True, track_running_stats=True)\n",
       "        (conv2): Conv2d(256, 256, kernel_size=(3, 3), stride=(1, 1), padding=(1, 1), bias=False)\n",
       "        (bn2): BatchNorm2d(256, eps=1e-05, momentum=0.1, affine=True, track_running_stats=True)\n",
       "        (conv3): Conv2d(256, 1024, kernel_size=(1, 1), stride=(1, 1), bias=False)\n",
       "        (bn3): BatchNorm2d(1024, eps=1e-05, momentum=0.1, affine=True, track_running_stats=True)\n",
       "        (relu): ReLU(inplace=True)\n",
       "      )\n",
       "      (18): Bottleneck(\n",
       "        (conv1): Conv2d(1024, 256, kernel_size=(1, 1), stride=(1, 1), bias=False)\n",
       "        (bn1): BatchNorm2d(256, eps=1e-05, momentum=0.1, affine=True, track_running_stats=True)\n",
       "        (conv2): Conv2d(256, 256, kernel_size=(3, 3), stride=(1, 1), padding=(1, 1), bias=False)\n",
       "        (bn2): BatchNorm2d(256, eps=1e-05, momentum=0.1, affine=True, track_running_stats=True)\n",
       "        (conv3): Conv2d(256, 1024, kernel_size=(1, 1), stride=(1, 1), bias=False)\n",
       "        (bn3): BatchNorm2d(1024, eps=1e-05, momentum=0.1, affine=True, track_running_stats=True)\n",
       "        (relu): ReLU(inplace=True)\n",
       "      )\n",
       "      (19): Bottleneck(\n",
       "        (conv1): Conv2d(1024, 256, kernel_size=(1, 1), stride=(1, 1), bias=False)\n",
       "        (bn1): BatchNorm2d(256, eps=1e-05, momentum=0.1, affine=True, track_running_stats=True)\n",
       "        (conv2): Conv2d(256, 256, kernel_size=(3, 3), stride=(1, 1), padding=(1, 1), bias=False)\n",
       "        (bn2): BatchNorm2d(256, eps=1e-05, momentum=0.1, affine=True, track_running_stats=True)\n",
       "        (conv3): Conv2d(256, 1024, kernel_size=(1, 1), stride=(1, 1), bias=False)\n",
       "        (bn3): BatchNorm2d(1024, eps=1e-05, momentum=0.1, affine=True, track_running_stats=True)\n",
       "        (relu): ReLU(inplace=True)\n",
       "      )\n",
       "      (20): Bottleneck(\n",
       "        (conv1): Conv2d(1024, 256, kernel_size=(1, 1), stride=(1, 1), bias=False)\n",
       "        (bn1): BatchNorm2d(256, eps=1e-05, momentum=0.1, affine=True, track_running_stats=True)\n",
       "        (conv2): Conv2d(256, 256, kernel_size=(3, 3), stride=(1, 1), padding=(1, 1), bias=False)\n",
       "        (bn2): BatchNorm2d(256, eps=1e-05, momentum=0.1, affine=True, track_running_stats=True)\n",
       "        (conv3): Conv2d(256, 1024, kernel_size=(1, 1), stride=(1, 1), bias=False)\n",
       "        (bn3): BatchNorm2d(1024, eps=1e-05, momentum=0.1, affine=True, track_running_stats=True)\n",
       "        (relu): ReLU(inplace=True)\n",
       "      )\n",
       "      (21): Bottleneck(\n",
       "        (conv1): Conv2d(1024, 256, kernel_size=(1, 1), stride=(1, 1), bias=False)\n",
       "        (bn1): BatchNorm2d(256, eps=1e-05, momentum=0.1, affine=True, track_running_stats=True)\n",
       "        (conv2): Conv2d(256, 256, kernel_size=(3, 3), stride=(1, 1), padding=(1, 1), bias=False)\n",
       "        (bn2): BatchNorm2d(256, eps=1e-05, momentum=0.1, affine=True, track_running_stats=True)\n",
       "        (conv3): Conv2d(256, 1024, kernel_size=(1, 1), stride=(1, 1), bias=False)\n",
       "        (bn3): BatchNorm2d(1024, eps=1e-05, momentum=0.1, affine=True, track_running_stats=True)\n",
       "        (relu): ReLU(inplace=True)\n",
       "      )\n",
       "      (22): Bottleneck(\n",
       "        (conv1): Conv2d(1024, 256, kernel_size=(1, 1), stride=(1, 1), bias=False)\n",
       "        (bn1): BatchNorm2d(256, eps=1e-05, momentum=0.1, affine=True, track_running_stats=True)\n",
       "        (conv2): Conv2d(256, 256, kernel_size=(3, 3), stride=(1, 1), padding=(1, 1), bias=False)\n",
       "        (bn2): BatchNorm2d(256, eps=1e-05, momentum=0.1, affine=True, track_running_stats=True)\n",
       "        (conv3): Conv2d(256, 1024, kernel_size=(1, 1), stride=(1, 1), bias=False)\n",
       "        (bn3): BatchNorm2d(1024, eps=1e-05, momentum=0.1, affine=True, track_running_stats=True)\n",
       "        (relu): ReLU(inplace=True)\n",
       "      )\n",
       "      (23): Bottleneck(\n",
       "        (conv1): Conv2d(1024, 256, kernel_size=(1, 1), stride=(1, 1), bias=False)\n",
       "        (bn1): BatchNorm2d(256, eps=1e-05, momentum=0.1, affine=True, track_running_stats=True)\n",
       "        (conv2): Conv2d(256, 256, kernel_size=(3, 3), stride=(1, 1), padding=(1, 1), bias=False)\n",
       "        (bn2): BatchNorm2d(256, eps=1e-05, momentum=0.1, affine=True, track_running_stats=True)\n",
       "        (conv3): Conv2d(256, 1024, kernel_size=(1, 1), stride=(1, 1), bias=False)\n",
       "        (bn3): BatchNorm2d(1024, eps=1e-05, momentum=0.1, affine=True, track_running_stats=True)\n",
       "        (relu): ReLU(inplace=True)\n",
       "      )\n",
       "      (24): Bottleneck(\n",
       "        (conv1): Conv2d(1024, 256, kernel_size=(1, 1), stride=(1, 1), bias=False)\n",
       "        (bn1): BatchNorm2d(256, eps=1e-05, momentum=0.1, affine=True, track_running_stats=True)\n",
       "        (conv2): Conv2d(256, 256, kernel_size=(3, 3), stride=(1, 1), padding=(1, 1), bias=False)\n",
       "        (bn2): BatchNorm2d(256, eps=1e-05, momentum=0.1, affine=True, track_running_stats=True)\n",
       "        (conv3): Conv2d(256, 1024, kernel_size=(1, 1), stride=(1, 1), bias=False)\n",
       "        (bn3): BatchNorm2d(1024, eps=1e-05, momentum=0.1, affine=True, track_running_stats=True)\n",
       "        (relu): ReLU(inplace=True)\n",
       "      )\n",
       "      (25): Bottleneck(\n",
       "        (conv1): Conv2d(1024, 256, kernel_size=(1, 1), stride=(1, 1), bias=False)\n",
       "        (bn1): BatchNorm2d(256, eps=1e-05, momentum=0.1, affine=True, track_running_stats=True)\n",
       "        (conv2): Conv2d(256, 256, kernel_size=(3, 3), stride=(1, 1), padding=(1, 1), bias=False)\n",
       "        (bn2): BatchNorm2d(256, eps=1e-05, momentum=0.1, affine=True, track_running_stats=True)\n",
       "        (conv3): Conv2d(256, 1024, kernel_size=(1, 1), stride=(1, 1), bias=False)\n",
       "        (bn3): BatchNorm2d(1024, eps=1e-05, momentum=0.1, affine=True, track_running_stats=True)\n",
       "        (relu): ReLU(inplace=True)\n",
       "      )\n",
       "      (26): Bottleneck(\n",
       "        (conv1): Conv2d(1024, 256, kernel_size=(1, 1), stride=(1, 1), bias=False)\n",
       "        (bn1): BatchNorm2d(256, eps=1e-05, momentum=0.1, affine=True, track_running_stats=True)\n",
       "        (conv2): Conv2d(256, 256, kernel_size=(3, 3), stride=(1, 1), padding=(1, 1), bias=False)\n",
       "        (bn2): BatchNorm2d(256, eps=1e-05, momentum=0.1, affine=True, track_running_stats=True)\n",
       "        (conv3): Conv2d(256, 1024, kernel_size=(1, 1), stride=(1, 1), bias=False)\n",
       "        (bn3): BatchNorm2d(1024, eps=1e-05, momentum=0.1, affine=True, track_running_stats=True)\n",
       "        (relu): ReLU(inplace=True)\n",
       "      )\n",
       "      (27): Bottleneck(\n",
       "        (conv1): Conv2d(1024, 256, kernel_size=(1, 1), stride=(1, 1), bias=False)\n",
       "        (bn1): BatchNorm2d(256, eps=1e-05, momentum=0.1, affine=True, track_running_stats=True)\n",
       "        (conv2): Conv2d(256, 256, kernel_size=(3, 3), stride=(1, 1), padding=(1, 1), bias=False)\n",
       "        (bn2): BatchNorm2d(256, eps=1e-05, momentum=0.1, affine=True, track_running_stats=True)\n",
       "        (conv3): Conv2d(256, 1024, kernel_size=(1, 1), stride=(1, 1), bias=False)\n",
       "        (bn3): BatchNorm2d(1024, eps=1e-05, momentum=0.1, affine=True, track_running_stats=True)\n",
       "        (relu): ReLU(inplace=True)\n",
       "      )\n",
       "      (28): Bottleneck(\n",
       "        (conv1): Conv2d(1024, 256, kernel_size=(1, 1), stride=(1, 1), bias=False)\n",
       "        (bn1): BatchNorm2d(256, eps=1e-05, momentum=0.1, affine=True, track_running_stats=True)\n",
       "        (conv2): Conv2d(256, 256, kernel_size=(3, 3), stride=(1, 1), padding=(1, 1), bias=False)\n",
       "        (bn2): BatchNorm2d(256, eps=1e-05, momentum=0.1, affine=True, track_running_stats=True)\n",
       "        (conv3): Conv2d(256, 1024, kernel_size=(1, 1), stride=(1, 1), bias=False)\n",
       "        (bn3): BatchNorm2d(1024, eps=1e-05, momentum=0.1, affine=True, track_running_stats=True)\n",
       "        (relu): ReLU(inplace=True)\n",
       "      )\n",
       "      (29): Bottleneck(\n",
       "        (conv1): Conv2d(1024, 256, kernel_size=(1, 1), stride=(1, 1), bias=False)\n",
       "        (bn1): BatchNorm2d(256, eps=1e-05, momentum=0.1, affine=True, track_running_stats=True)\n",
       "        (conv2): Conv2d(256, 256, kernel_size=(3, 3), stride=(1, 1), padding=(1, 1), bias=False)\n",
       "        (bn2): BatchNorm2d(256, eps=1e-05, momentum=0.1, affine=True, track_running_stats=True)\n",
       "        (conv3): Conv2d(256, 1024, kernel_size=(1, 1), stride=(1, 1), bias=False)\n",
       "        (bn3): BatchNorm2d(1024, eps=1e-05, momentum=0.1, affine=True, track_running_stats=True)\n",
       "        (relu): ReLU(inplace=True)\n",
       "      )\n",
       "      (30): Bottleneck(\n",
       "        (conv1): Conv2d(1024, 256, kernel_size=(1, 1), stride=(1, 1), bias=False)\n",
       "        (bn1): BatchNorm2d(256, eps=1e-05, momentum=0.1, affine=True, track_running_stats=True)\n",
       "        (conv2): Conv2d(256, 256, kernel_size=(3, 3), stride=(1, 1), padding=(1, 1), bias=False)\n",
       "        (bn2): BatchNorm2d(256, eps=1e-05, momentum=0.1, affine=True, track_running_stats=True)\n",
       "        (conv3): Conv2d(256, 1024, kernel_size=(1, 1), stride=(1, 1), bias=False)\n",
       "        (bn3): BatchNorm2d(1024, eps=1e-05, momentum=0.1, affine=True, track_running_stats=True)\n",
       "        (relu): ReLU(inplace=True)\n",
       "      )\n",
       "      (31): Bottleneck(\n",
       "        (conv1): Conv2d(1024, 256, kernel_size=(1, 1), stride=(1, 1), bias=False)\n",
       "        (bn1): BatchNorm2d(256, eps=1e-05, momentum=0.1, affine=True, track_running_stats=True)\n",
       "        (conv2): Conv2d(256, 256, kernel_size=(3, 3), stride=(1, 1), padding=(1, 1), bias=False)\n",
       "        (bn2): BatchNorm2d(256, eps=1e-05, momentum=0.1, affine=True, track_running_stats=True)\n",
       "        (conv3): Conv2d(256, 1024, kernel_size=(1, 1), stride=(1, 1), bias=False)\n",
       "        (bn3): BatchNorm2d(1024, eps=1e-05, momentum=0.1, affine=True, track_running_stats=True)\n",
       "        (relu): ReLU(inplace=True)\n",
       "      )\n",
       "      (32): Bottleneck(\n",
       "        (conv1): Conv2d(1024, 256, kernel_size=(1, 1), stride=(1, 1), bias=False)\n",
       "        (bn1): BatchNorm2d(256, eps=1e-05, momentum=0.1, affine=True, track_running_stats=True)\n",
       "        (conv2): Conv2d(256, 256, kernel_size=(3, 3), stride=(1, 1), padding=(1, 1), bias=False)\n",
       "        (bn2): BatchNorm2d(256, eps=1e-05, momentum=0.1, affine=True, track_running_stats=True)\n",
       "        (conv3): Conv2d(256, 1024, kernel_size=(1, 1), stride=(1, 1), bias=False)\n",
       "        (bn3): BatchNorm2d(1024, eps=1e-05, momentum=0.1, affine=True, track_running_stats=True)\n",
       "        (relu): ReLU(inplace=True)\n",
       "      )\n",
       "      (33): Bottleneck(\n",
       "        (conv1): Conv2d(1024, 256, kernel_size=(1, 1), stride=(1, 1), bias=False)\n",
       "        (bn1): BatchNorm2d(256, eps=1e-05, momentum=0.1, affine=True, track_running_stats=True)\n",
       "        (conv2): Conv2d(256, 256, kernel_size=(3, 3), stride=(1, 1), padding=(1, 1), bias=False)\n",
       "        (bn2): BatchNorm2d(256, eps=1e-05, momentum=0.1, affine=True, track_running_stats=True)\n",
       "        (conv3): Conv2d(256, 1024, kernel_size=(1, 1), stride=(1, 1), bias=False)\n",
       "        (bn3): BatchNorm2d(1024, eps=1e-05, momentum=0.1, affine=True, track_running_stats=True)\n",
       "        (relu): ReLU(inplace=True)\n",
       "      )\n",
       "      (34): Bottleneck(\n",
       "        (conv1): Conv2d(1024, 256, kernel_size=(1, 1), stride=(1, 1), bias=False)\n",
       "        (bn1): BatchNorm2d(256, eps=1e-05, momentum=0.1, affine=True, track_running_stats=True)\n",
       "        (conv2): Conv2d(256, 256, kernel_size=(3, 3), stride=(1, 1), padding=(1, 1), bias=False)\n",
       "        (bn2): BatchNorm2d(256, eps=1e-05, momentum=0.1, affine=True, track_running_stats=True)\n",
       "        (conv3): Conv2d(256, 1024, kernel_size=(1, 1), stride=(1, 1), bias=False)\n",
       "        (bn3): BatchNorm2d(1024, eps=1e-05, momentum=0.1, affine=True, track_running_stats=True)\n",
       "        (relu): ReLU(inplace=True)\n",
       "      )\n",
       "      (35): Bottleneck(\n",
       "        (conv1): Conv2d(1024, 256, kernel_size=(1, 1), stride=(1, 1), bias=False)\n",
       "        (bn1): BatchNorm2d(256, eps=1e-05, momentum=0.1, affine=True, track_running_stats=True)\n",
       "        (conv2): Conv2d(256, 256, kernel_size=(3, 3), stride=(1, 1), padding=(1, 1), bias=False)\n",
       "        (bn2): BatchNorm2d(256, eps=1e-05, momentum=0.1, affine=True, track_running_stats=True)\n",
       "        (conv3): Conv2d(256, 1024, kernel_size=(1, 1), stride=(1, 1), bias=False)\n",
       "        (bn3): BatchNorm2d(1024, eps=1e-05, momentum=0.1, affine=True, track_running_stats=True)\n",
       "        (relu): ReLU(inplace=True)\n",
       "      )\n",
       "    )\n",
       "    (layer4): Sequential(\n",
       "      (0): Bottleneck(\n",
       "        (conv1): Conv2d(1024, 512, kernel_size=(1, 1), stride=(1, 1), bias=False)\n",
       "        (bn1): BatchNorm2d(512, eps=1e-05, momentum=0.1, affine=True, track_running_stats=True)\n",
       "        (conv2): Conv2d(512, 512, kernel_size=(3, 3), stride=(2, 2), padding=(1, 1), bias=False)\n",
       "        (bn2): BatchNorm2d(512, eps=1e-05, momentum=0.1, affine=True, track_running_stats=True)\n",
       "        (conv3): Conv2d(512, 2048, kernel_size=(1, 1), stride=(1, 1), bias=False)\n",
       "        (bn3): BatchNorm2d(2048, eps=1e-05, momentum=0.1, affine=True, track_running_stats=True)\n",
       "        (relu): ReLU(inplace=True)\n",
       "        (downsample): Sequential(\n",
       "          (0): Conv2d(1024, 2048, kernel_size=(1, 1), stride=(2, 2), bias=False)\n",
       "          (1): BatchNorm2d(2048, eps=1e-05, momentum=0.1, affine=True, track_running_stats=True)\n",
       "        )\n",
       "      )\n",
       "      (1): Bottleneck(\n",
       "        (conv1): Conv2d(2048, 512, kernel_size=(1, 1), stride=(1, 1), bias=False)\n",
       "        (bn1): BatchNorm2d(512, eps=1e-05, momentum=0.1, affine=True, track_running_stats=True)\n",
       "        (conv2): Conv2d(512, 512, kernel_size=(3, 3), stride=(1, 1), padding=(1, 1), bias=False)\n",
       "        (bn2): BatchNorm2d(512, eps=1e-05, momentum=0.1, affine=True, track_running_stats=True)\n",
       "        (conv3): Conv2d(512, 2048, kernel_size=(1, 1), stride=(1, 1), bias=False)\n",
       "        (bn3): BatchNorm2d(2048, eps=1e-05, momentum=0.1, affine=True, track_running_stats=True)\n",
       "        (relu): ReLU(inplace=True)\n",
       "      )\n",
       "      (2): Bottleneck(\n",
       "        (conv1): Conv2d(2048, 512, kernel_size=(1, 1), stride=(1, 1), bias=False)\n",
       "        (bn1): BatchNorm2d(512, eps=1e-05, momentum=0.1, affine=True, track_running_stats=True)\n",
       "        (conv2): Conv2d(512, 512, kernel_size=(3, 3), stride=(1, 1), padding=(1, 1), bias=False)\n",
       "        (bn2): BatchNorm2d(512, eps=1e-05, momentum=0.1, affine=True, track_running_stats=True)\n",
       "        (conv3): Conv2d(512, 2048, kernel_size=(1, 1), stride=(1, 1), bias=False)\n",
       "        (bn3): BatchNorm2d(2048, eps=1e-05, momentum=0.1, affine=True, track_running_stats=True)\n",
       "        (relu): ReLU(inplace=True)\n",
       "      )\n",
       "    )\n",
       "  )\n",
       "  (decoder): UnetDecoder(\n",
       "    (center): Identity()\n",
       "    (blocks): ModuleList(\n",
       "      (0): DecoderBlock(\n",
       "        (conv1): Conv2dReLU(\n",
       "          (0): Conv2d(3072, 256, kernel_size=(3, 3), stride=(1, 1), padding=(1, 1), bias=False)\n",
       "          (1): BatchNorm2d(256, eps=1e-05, momentum=0.1, affine=True, track_running_stats=True)\n",
       "          (2): ReLU(inplace=True)\n",
       "        )\n",
       "        (attention1): Attention(\n",
       "          (attention): Identity()\n",
       "        )\n",
       "        (conv2): Conv2dReLU(\n",
       "          (0): Conv2d(256, 256, kernel_size=(3, 3), stride=(1, 1), padding=(1, 1), bias=False)\n",
       "          (1): BatchNorm2d(256, eps=1e-05, momentum=0.1, affine=True, track_running_stats=True)\n",
       "          (2): ReLU(inplace=True)\n",
       "        )\n",
       "        (attention2): Attention(\n",
       "          (attention): Identity()\n",
       "        )\n",
       "      )\n",
       "      (1): DecoderBlock(\n",
       "        (conv1): Conv2dReLU(\n",
       "          (0): Conv2d(768, 128, kernel_size=(3, 3), stride=(1, 1), padding=(1, 1), bias=False)\n",
       "          (1): BatchNorm2d(128, eps=1e-05, momentum=0.1, affine=True, track_running_stats=True)\n",
       "          (2): ReLU(inplace=True)\n",
       "        )\n",
       "        (attention1): Attention(\n",
       "          (attention): Identity()\n",
       "        )\n",
       "        (conv2): Conv2dReLU(\n",
       "          (0): Conv2d(128, 128, kernel_size=(3, 3), stride=(1, 1), padding=(1, 1), bias=False)\n",
       "          (1): BatchNorm2d(128, eps=1e-05, momentum=0.1, affine=True, track_running_stats=True)\n",
       "          (2): ReLU(inplace=True)\n",
       "        )\n",
       "        (attention2): Attention(\n",
       "          (attention): Identity()\n",
       "        )\n",
       "      )\n",
       "      (2): DecoderBlock(\n",
       "        (conv1): Conv2dReLU(\n",
       "          (0): Conv2d(384, 64, kernel_size=(3, 3), stride=(1, 1), padding=(1, 1), bias=False)\n",
       "          (1): BatchNorm2d(64, eps=1e-05, momentum=0.1, affine=True, track_running_stats=True)\n",
       "          (2): ReLU(inplace=True)\n",
       "        )\n",
       "        (attention1): Attention(\n",
       "          (attention): Identity()\n",
       "        )\n",
       "        (conv2): Conv2dReLU(\n",
       "          (0): Conv2d(64, 64, kernel_size=(3, 3), stride=(1, 1), padding=(1, 1), bias=False)\n",
       "          (1): BatchNorm2d(64, eps=1e-05, momentum=0.1, affine=True, track_running_stats=True)\n",
       "          (2): ReLU(inplace=True)\n",
       "        )\n",
       "        (attention2): Attention(\n",
       "          (attention): Identity()\n",
       "        )\n",
       "      )\n",
       "      (3): DecoderBlock(\n",
       "        (conv1): Conv2dReLU(\n",
       "          (0): Conv2d(128, 32, kernel_size=(3, 3), stride=(1, 1), padding=(1, 1), bias=False)\n",
       "          (1): BatchNorm2d(32, eps=1e-05, momentum=0.1, affine=True, track_running_stats=True)\n",
       "          (2): ReLU(inplace=True)\n",
       "        )\n",
       "        (attention1): Attention(\n",
       "          (attention): Identity()\n",
       "        )\n",
       "        (conv2): Conv2dReLU(\n",
       "          (0): Conv2d(32, 32, kernel_size=(3, 3), stride=(1, 1), padding=(1, 1), bias=False)\n",
       "          (1): BatchNorm2d(32, eps=1e-05, momentum=0.1, affine=True, track_running_stats=True)\n",
       "          (2): ReLU(inplace=True)\n",
       "        )\n",
       "        (attention2): Attention(\n",
       "          (attention): Identity()\n",
       "        )\n",
       "      )\n",
       "      (4): DecoderBlock(\n",
       "        (conv1): Conv2dReLU(\n",
       "          (0): Conv2d(32, 16, kernel_size=(3, 3), stride=(1, 1), padding=(1, 1), bias=False)\n",
       "          (1): BatchNorm2d(16, eps=1e-05, momentum=0.1, affine=True, track_running_stats=True)\n",
       "          (2): ReLU(inplace=True)\n",
       "        )\n",
       "        (attention1): Attention(\n",
       "          (attention): Identity()\n",
       "        )\n",
       "        (conv2): Conv2dReLU(\n",
       "          (0): Conv2d(16, 16, kernel_size=(3, 3), stride=(1, 1), padding=(1, 1), bias=False)\n",
       "          (1): BatchNorm2d(16, eps=1e-05, momentum=0.1, affine=True, track_running_stats=True)\n",
       "          (2): ReLU(inplace=True)\n",
       "        )\n",
       "        (attention2): Attention(\n",
       "          (attention): Identity()\n",
       "        )\n",
       "      )\n",
       "    )\n",
       "  )\n",
       "  (segmentation_head): SegmentationHead(\n",
       "    (0): Conv2d(16, 3, kernel_size=(3, 3), stride=(1, 1), padding=(1, 1))\n",
       "    (1): Identity()\n",
       "    (2): Activation(\n",
       "      (activation): Identity()\n",
       "    )\n",
       "  )\n",
       ")"
      ]
     },
     "execution_count": 11,
     "metadata": {},
     "output_type": "execute_result"
    }
   ],
   "source": [
    "checkpoint = torch.load(SAVE_PATH)\n",
    "model.load_state_dict(checkpoint['model'])\n",
    "device = torch.device('cuda' if torch.cuda.is_available() else \"cpu\")\n",
    "model.to(device)"
   ]
  },
  {
   "cell_type": "code",
   "execution_count": 12,
   "metadata": {},
   "outputs": [],
   "source": [
    "model.eval()\n",
    "for i in os.listdir(TEST_IMAGES_DIR):\n",
    "    img_path = os.path.join(TEST_IMAGES_DIR, i)\n",
    "    ori_img = cv2.imread(img_path)\n",
    "    ori_img = cv2.cvtColor(ori_img, cv2.COLOR_BGR2RGB)\n",
    "    ori_w = ori_img.shape[0]\n",
    "    ori_h = ori_img.shape[1]\n",
    "    img = cv2.resize(ori_img, (256, 256))\n",
    "    transformed = val_transformation(image=img)\n",
    "    input_img = transformed[\"image\"]\n",
    "    input_img = input_img.unsqueeze(0).to(device)\n",
    "    with torch.no_grad():\n",
    "        output_mask = model.forward(input_img).squeeze(0).cpu().numpy().transpose(1,2,0)\n",
    "    mask = cv2.resize(output_mask, (ori_h, ori_w))\n",
    "    mask = np.argmax(mask, axis=2)\n",
    "    mask_rgb = mask2rgb(mask, COLOR_DICT)\n",
    "    mask_rgb = cv2.cvtColor(mask_rgb, cv2.COLOR_RGB2BGR)\n",
    "    cv2.imwrite(f\"{PREDICTION_PATH}{i}\", mask_rgb)\n",
    "    "
   ]
  },
  {
   "cell_type": "code",
   "execution_count": 13,
   "metadata": {},
   "outputs": [
    {
     "name": "stdout",
     "output_type": "stream",
     "text": [
      "d:/UNet-for-Colonoscopy-Polyp-Segmentation/unet_resnet152_prediction\\019410b1fcf0625f608b4ce97629ab55.jpeg\n",
      "d:/UNet-for-Colonoscopy-Polyp-Segmentation/unet_resnet152_prediction\\02fa602bb3c7abacdbd7e6afd56ea7bc.jpeg\n",
      "d:/UNet-for-Colonoscopy-Polyp-Segmentation/unet_resnet152_prediction\\0398846f67b5df7cdf3f33c3ca4d5060.jpeg\n",
      "d:/UNet-for-Colonoscopy-Polyp-Segmentation/unet_resnet152_prediction\\05734fbeedd0f9da760db74a29abdb04.jpeg\n",
      "d:/UNet-for-Colonoscopy-Polyp-Segmentation/unet_resnet152_prediction\\05b78a91391adc0bb223c4eaf3372eae.jpeg\n",
      "d:/UNet-for-Colonoscopy-Polyp-Segmentation/unet_resnet152_prediction\\0619ebebe9e9c9d00a4262b4fe4a5a95.jpeg\n",
      "d:/UNet-for-Colonoscopy-Polyp-Segmentation/unet_resnet152_prediction\\0626ab4ec3d46e602b296cc5cfd263f1.jpeg\n",
      "d:/UNet-for-Colonoscopy-Polyp-Segmentation/unet_resnet152_prediction\\0a0317371a966bf4b3466463a3c64db1.jpeg\n",
      "d:/UNet-for-Colonoscopy-Polyp-Segmentation/unet_resnet152_prediction\\0a5f3601ad4f13ccf1f4b331a412fc44.jpeg\n",
      "d:/UNet-for-Colonoscopy-Polyp-Segmentation/unet_resnet152_prediction\\0af3feff05dec1eb3a70b145a7d8d3b6.jpeg\n",
      "d:/UNet-for-Colonoscopy-Polyp-Segmentation/unet_resnet152_prediction\\0fca6a4248a41e8db8b4ed633b456aaa.jpeg\n",
      "d:/UNet-for-Colonoscopy-Polyp-Segmentation/unet_resnet152_prediction\\1002ec4a1fe748f3085f1ce88cbdf366.jpeg\n",
      "d:/UNet-for-Colonoscopy-Polyp-Segmentation/unet_resnet152_prediction\\1209db6dcdda5cc8a788edaeb6aa460a.jpeg\n",
      "d:/UNet-for-Colonoscopy-Polyp-Segmentation/unet_resnet152_prediction\\13dd311a65d2b46d0a6085835c525af6.jpeg\n",
      "d:/UNet-for-Colonoscopy-Polyp-Segmentation/unet_resnet152_prediction\\1531871f2fd85a04faeeb2b535797395.jpeg\n",
      "d:/UNet-for-Colonoscopy-Polyp-Segmentation/unet_resnet152_prediction\\15fc656702fa602bb3c7abacdbd7e6af.jpeg\n",
      "d:/UNet-for-Colonoscopy-Polyp-Segmentation/unet_resnet152_prediction\\1ad4f13ccf1f4b331a412fc44655fb51.jpeg\n",
      "d:/UNet-for-Colonoscopy-Polyp-Segmentation/unet_resnet152_prediction\\1b62f15ec83b97bb11e8e0c4416c1931.jpeg\n",
      "d:/UNet-for-Colonoscopy-Polyp-Segmentation/unet_resnet152_prediction\\1c0e9082ea2c193ac8d551c149b60f29.jpeg\n",
      "d:/UNet-for-Colonoscopy-Polyp-Segmentation/unet_resnet152_prediction\\1db239dda50f954ba59c7de13a35276a.jpeg\n",
      "d:/UNet-for-Colonoscopy-Polyp-Segmentation/unet_resnet152_prediction\\26679bff55177a34fc01019eec999fd8.jpeg\n",
      "d:/UNet-for-Colonoscopy-Polyp-Segmentation/unet_resnet152_prediction\\268d4b4ef4d95ceea11957998906d369.jpeg\n",
      "d:/UNet-for-Colonoscopy-Polyp-Segmentation/unet_resnet152_prediction\\27738677a6b1f2c6d40b3bbba8f6c704.jpeg\n",
      "d:/UNet-for-Colonoscopy-Polyp-Segmentation/unet_resnet152_prediction\\285e26c90e1797c77826f9a7021bab9f.jpeg\n",
      "d:/UNet-for-Colonoscopy-Polyp-Segmentation/unet_resnet152_prediction\\2a365b5574868eb60861ee1ff0b8a4f6.jpeg\n",
      "d:/UNet-for-Colonoscopy-Polyp-Segmentation/unet_resnet152_prediction\\2cd066b9fdbc3bbc04a3afe1f119f21b.jpeg\n",
      "d:/UNet-for-Colonoscopy-Polyp-Segmentation/unet_resnet152_prediction\\2d9e593b6be1ac29adbe86f03d900fd1.jpeg\n",
      "d:/UNet-for-Colonoscopy-Polyp-Segmentation/unet_resnet152_prediction\\2ed9fbb63b28163a745959c03983064a.jpeg\n",
      "d:/UNet-for-Colonoscopy-Polyp-Segmentation/unet_resnet152_prediction\\30c2f4fc276ed9f178dc2f4af6266509.jpeg\n",
      "d:/UNet-for-Colonoscopy-Polyp-Segmentation/unet_resnet152_prediction\\314fe384eb2ba3adfda6c1899fdc9837.jpeg\n",
      "d:/UNet-for-Colonoscopy-Polyp-Segmentation/unet_resnet152_prediction\\318ecf467d7ad048df39beb176363408.jpeg\n",
      "d:/UNet-for-Colonoscopy-Polyp-Segmentation/unet_resnet152_prediction\\3425b976973f13dd311a65d2b46d0a60.jpeg\n",
      "d:/UNet-for-Colonoscopy-Polyp-Segmentation/unet_resnet152_prediction\\343f27ebc5d92b9076135d76d0bbd4ce.jpeg\n",
      "d:/UNet-for-Colonoscopy-Polyp-Segmentation/unet_resnet152_prediction\\3657e4314fe384eb2ba3adfda6c1899f.jpeg\n",
      "d:/UNet-for-Colonoscopy-Polyp-Segmentation/unet_resnet152_prediction\\391adc0bb223c4eaf3372eae567c94ea.jpeg\n",
      "d:/UNet-for-Colonoscopy-Polyp-Segmentation/unet_resnet152_prediction\\395e56a6d9ba9d45c3dbc695325ded46.jpeg\n",
      "d:/UNet-for-Colonoscopy-Polyp-Segmentation/unet_resnet152_prediction\\39d6aad6bb0170a40ed32deef71fbe08.jpeg\n",
      "d:/UNet-for-Colonoscopy-Polyp-Segmentation/unet_resnet152_prediction\\39dda50f954ba59c7de13a35276a4764.jpeg\n",
      "d:/UNet-for-Colonoscopy-Polyp-Segmentation/unet_resnet152_prediction\\3b8318ecf467d7ad048df39beb176363.jpeg\n",
      "d:/UNet-for-Colonoscopy-Polyp-Segmentation/unet_resnet152_prediction\\3bbc04a3afe1f119f21b248d152b672a.jpeg\n",
      "d:/UNet-for-Colonoscopy-Polyp-Segmentation/unet_resnet152_prediction\\3c3ca4d5060a633a8d5b2b2b55157b77.jpeg\n",
      "d:/UNet-for-Colonoscopy-Polyp-Segmentation/unet_resnet152_prediction\\3c692195f853af7f8a4df1ec859759b7.jpeg\n",
      "d:/UNet-for-Colonoscopy-Polyp-Segmentation/unet_resnet152_prediction\\3c84417fda8019410b1fcf0625f608b4.jpeg\n",
      "d:/UNet-for-Colonoscopy-Polyp-Segmentation/unet_resnet152_prediction\\3dd311a65d2b46d0a6085835c525af63.jpeg\n",
      "d:/UNet-for-Colonoscopy-Polyp-Segmentation/unet_resnet152_prediction\\3f33c3ca4d5060a633a8d5b2b2b55157.jpeg\n",
      "d:/UNet-for-Colonoscopy-Polyp-Segmentation/unet_resnet152_prediction\\41ed86e58224cb76a67d4dcf9596154e.jpeg\n",
      "d:/UNet-for-Colonoscopy-Polyp-Segmentation/unet_resnet152_prediction\\425b976973f13dd311a65d2b46d0a608.jpeg\n",
      "d:/UNet-for-Colonoscopy-Polyp-Segmentation/unet_resnet152_prediction\\4417fda8019410b1fcf0625f608b4ce9.jpeg\n",
      "d:/UNet-for-Colonoscopy-Polyp-Segmentation/unet_resnet152_prediction\\45b21960c94b0aab4c024a573c692195.jpeg\n",
      "d:/UNet-for-Colonoscopy-Polyp-Segmentation/unet_resnet152_prediction\\461c2a337948a41964c1d4f50a5f3601.jpeg\n",
      "d:/UNet-for-Colonoscopy-Polyp-Segmentation/unet_resnet152_prediction\\4baddc22268d4b4ef4d95ceea1195799.jpeg\n",
      "d:/UNet-for-Colonoscopy-Polyp-Segmentation/unet_resnet152_prediction\\4c1711b62f15ec83b97bb11e8e0c4416.jpeg\n",
      "d:/UNet-for-Colonoscopy-Polyp-Segmentation/unet_resnet152_prediction\\4ca6160127cd1d5ff99c267599fc487b.jpeg\n",
      "d:/UNet-for-Colonoscopy-Polyp-Segmentation/unet_resnet152_prediction\\4e2a6e51d077bad31c8c5f54ffaa27a6.jpeg\n",
      "d:/UNet-for-Colonoscopy-Polyp-Segmentation/unet_resnet152_prediction\\4e8bfb905b78a91391adc0bb223c4eaf.jpeg\n",
      "d:/UNet-for-Colonoscopy-Polyp-Segmentation/unet_resnet152_prediction\\4ef4d95ceea11957998906d3694abb47.jpeg\n",
      "d:/UNet-for-Colonoscopy-Polyp-Segmentation/unet_resnet152_prediction\\4f437f0019f7e6af7d7147763bdfb928.jpeg\n",
      "d:/UNet-for-Colonoscopy-Polyp-Segmentation/unet_resnet152_prediction\\4fda8daadc8dd23ae214d84b5dec33fd.jpeg\n",
      "d:/UNet-for-Colonoscopy-Polyp-Segmentation/unet_resnet152_prediction\\5026b3550534bca540e24f489284b8e6.jpeg\n",
      "d:/UNet-for-Colonoscopy-Polyp-Segmentation/unet_resnet152_prediction\\50534bca540e24f489284b8e6953ad88.jpeg\n",
      "d:/UNet-for-Colonoscopy-Polyp-Segmentation/unet_resnet152_prediction\\54ba59c7de13a35276a476420655433a.jpeg\n",
      "d:/UNet-for-Colonoscopy-Polyp-Segmentation/unet_resnet152_prediction\\559c7e610b1531871f2fd85a04faeeb2.jpeg\n",
      "d:/UNet-for-Colonoscopy-Polyp-Segmentation/unet_resnet152_prediction\\5664c1711b62f15ec83b97bb11e8e0c4.jpeg\n",
      "d:/UNet-for-Colonoscopy-Polyp-Segmentation/unet_resnet152_prediction\\5a51625559c7e610b1531871f2fd85a0.jpeg\n",
      "d:/UNet-for-Colonoscopy-Polyp-Segmentation/unet_resnet152_prediction\\5b21960c94b0aab4c024a573c692195f.jpeg\n",
      "d:/UNet-for-Colonoscopy-Polyp-Segmentation/unet_resnet152_prediction\\5beb48f0be11d0309d1dff09b8405734.jpeg\n",
      "d:/UNet-for-Colonoscopy-Polyp-Segmentation/unet_resnet152_prediction\\5c1346e62522325c1b9c4fc9cbe1eca1.jpeg\n",
      "d:/UNet-for-Colonoscopy-Polyp-Segmentation/unet_resnet152_prediction\\5e8f14e1e0ae936de314f2d95e6c487f.jpeg\n",
      "d:/UNet-for-Colonoscopy-Polyp-Segmentation/unet_resnet152_prediction\\60a633a8d5b2b2b55157b7781e2c706c.jpeg\n",
      "d:/UNet-for-Colonoscopy-Polyp-Segmentation/unet_resnet152_prediction\\60b246359c68c836f843dcf41f4dce3c.jpeg\n",
      "d:/UNet-for-Colonoscopy-Polyp-Segmentation/unet_resnet152_prediction\\6231002ec4a1fe748f3085f1ce88cbdf.jpeg\n",
      "d:/UNet-for-Colonoscopy-Polyp-Segmentation/unet_resnet152_prediction\\6240619ebebe9e9c9d00a4262b4fe4a5.jpeg\n",
      "d:/UNet-for-Colonoscopy-Polyp-Segmentation/unet_resnet152_prediction\\625559c7e610b1531871f2fd85a04fae.jpeg\n",
      "d:/UNet-for-Colonoscopy-Polyp-Segmentation/unet_resnet152_prediction\\626650908b1cb932a767bf5487ced51b.jpeg\n",
      "d:/UNet-for-Colonoscopy-Polyp-Segmentation/unet_resnet152_prediction\\633a8d5b2b2b55157b7781e2c706c75c.jpeg\n",
      "d:/UNet-for-Colonoscopy-Polyp-Segmentation/unet_resnet152_prediction\\63b8318ecf467d7ad048df39beb17636.jpeg\n",
      "d:/UNet-for-Colonoscopy-Polyp-Segmentation/unet_resnet152_prediction\\6679bff55177a34fc01019eec999fd84.jpeg\n",
      "d:/UNet-for-Colonoscopy-Polyp-Segmentation/unet_resnet152_prediction\\66e057db382b8564872a27301a654864.jpeg\n",
      "d:/UNet-for-Colonoscopy-Polyp-Segmentation/unet_resnet152_prediction\\677a6b1f2c6d40b3bbba8f6c704801b3.jpeg\n",
      "d:/UNet-for-Colonoscopy-Polyp-Segmentation/unet_resnet152_prediction\\67d4dcf9596154efb7cef748d9cbd617.jpeg\n",
      "d:/UNet-for-Colonoscopy-Polyp-Segmentation/unet_resnet152_prediction\\68d4b4ef4d95ceea11957998906d3694.jpeg\n",
      "d:/UNet-for-Colonoscopy-Polyp-Segmentation/unet_resnet152_prediction\\692195f853af7f8a4df1ec859759b7c8.jpeg\n",
      "d:/UNet-for-Colonoscopy-Polyp-Segmentation/unet_resnet152_prediction\\6ad1468996b4a9ce6d840b53a6558038.jpeg\n",
      "d:/UNet-for-Colonoscopy-Polyp-Segmentation/unet_resnet152_prediction\\6b83ef461c2a337948a41964c1d4f50a.jpeg\n",
      "d:/UNet-for-Colonoscopy-Polyp-Segmentation/unet_resnet152_prediction\\6d3694abb47953b0e4909384b57bb6a0.jpeg\n",
      "d:/UNet-for-Colonoscopy-Polyp-Segmentation/unet_resnet152_prediction\\6ddca6ee1af35b65bd9ea42cfcfedb5e.jpeg\n",
      "d:/UNet-for-Colonoscopy-Polyp-Segmentation/unet_resnet152_prediction\\6f4d4987ea3b4bae5672a230194c5a08.jpeg\n",
      "d:/UNet-for-Colonoscopy-Polyp-Segmentation/unet_resnet152_prediction\\6f67b5df7cdf3f33c3ca4d5060a633a8.jpeg\n",
      "d:/UNet-for-Colonoscopy-Polyp-Segmentation/unet_resnet152_prediction\\710d568df17586ad8f3297c819c90895.jpeg\n",
      "d:/UNet-for-Colonoscopy-Polyp-Segmentation/unet_resnet152_prediction\\71f2fd85a04faeeb2b535797395305af.jpeg\n",
      "d:/UNet-for-Colonoscopy-Polyp-Segmentation/unet_resnet152_prediction\\72d9e593b6be1ac29adbe86f03d900fd.jpeg\n",
      "d:/UNet-for-Colonoscopy-Polyp-Segmentation/unet_resnet152_prediction\\7330398846f67b5df7cdf3f33c3ca4d5.jpeg\n",
      "d:/UNet-for-Colonoscopy-Polyp-Segmentation/unet_resnet152_prediction\\77e004e8bfb905b78a91391adc0bb223.jpeg\n",
      "d:/UNet-for-Colonoscopy-Polyp-Segmentation/unet_resnet152_prediction\\780fd497e1c0e9082ea2c193ac8d551c.jpeg\n",
      "d:/UNet-for-Colonoscopy-Polyp-Segmentation/unet_resnet152_prediction\\782707d7c359e27888daefee82519763.jpeg\n",
      "d:/UNet-for-Colonoscopy-Polyp-Segmentation/unet_resnet152_prediction\\7936140a2d5fc1443c4e445927738677.jpeg\n",
      "d:/UNet-for-Colonoscopy-Polyp-Segmentation/unet_resnet152_prediction\\7ad1cf2eb9d32a3dc907950289e976c7.jpeg\n",
      "d:/UNet-for-Colonoscopy-Polyp-Segmentation/unet_resnet152_prediction\\7af2ed9fbb63b28163a745959c039830.jpeg\n",
      "d:/UNet-for-Colonoscopy-Polyp-Segmentation/unet_resnet152_prediction\\7b5df7cdf3f33c3ca4d5060a633a8d5b.jpeg\n",
      "d:/UNet-for-Colonoscopy-Polyp-Segmentation/unet_resnet152_prediction\\7cb2eb1ef57af2ed9fbb63b28163a745.jpeg\n",
      "d:/UNet-for-Colonoscopy-Polyp-Segmentation/unet_resnet152_prediction\\7cdf3f33c3ca4d5060a633a8d5b2b2b5.jpeg\n",
      "d:/UNet-for-Colonoscopy-Polyp-Segmentation/unet_resnet152_prediction\\7f0019f7e6af7d7147763bdfb928d788.jpeg\n",
      "d:/UNet-for-Colonoscopy-Polyp-Segmentation/unet_resnet152_prediction\\7f32574d6c748c41743c6c08a1d1ad8f.jpeg\n",
      "d:/UNet-for-Colonoscopy-Polyp-Segmentation/unet_resnet152_prediction\\7fda8019410b1fcf0625f608b4ce9762.jpeg\n",
      "d:/UNet-for-Colonoscopy-Polyp-Segmentation/unet_resnet152_prediction\\80c643782707d7c359e27888daefee82.jpeg\n",
      "d:/UNet-for-Colonoscopy-Polyp-Segmentation/unet_resnet152_prediction\\80cae6daedd989517cb8041ed86e5822.jpeg\n",
      "d:/UNet-for-Colonoscopy-Polyp-Segmentation/unet_resnet152_prediction\\82ea2c193ac8d551c149b60f2965341c.jpeg\n",
      "d:/UNet-for-Colonoscopy-Polyp-Segmentation/unet_resnet152_prediction\\8395e56a6d9ba9d45c3dbc695325ded4.jpeg\n",
      "d:/UNet-for-Colonoscopy-Polyp-Segmentation/unet_resnet152_prediction\\85a04faeeb2b535797395305af926a6f.jpeg\n",
      "d:/UNet-for-Colonoscopy-Polyp-Segmentation/unet_resnet152_prediction\\87133b51209db6dcdda5cc8a788edaeb.jpeg\n",
      "d:/UNet-for-Colonoscopy-Polyp-Segmentation/unet_resnet152_prediction\\88e16d4ca6160127cd1d5ff99c267599.jpeg\n",
      "d:/UNet-for-Colonoscopy-Polyp-Segmentation/unet_resnet152_prediction\\8954bb13d3727c7e5e1069646f2f0bb8.jpeg\n",
      "d:/UNet-for-Colonoscopy-Polyp-Segmentation/unet_resnet152_prediction\\8b8ec74baddc22268d4b4ef4d95ceea1.jpeg\n",
      "d:/UNet-for-Colonoscopy-Polyp-Segmentation/unet_resnet152_prediction\\8cbdf366e057db382b8564872a27301a.jpeg\n",
      "d:/UNet-for-Colonoscopy-Polyp-Segmentation/unet_resnet152_prediction\\8eb5a9a8a8d7fcc9df8e5ad89d284483.jpeg\n",
      "d:/UNet-for-Colonoscopy-Polyp-Segmentation/unet_resnet152_prediction\\8fa8625605da2023387fd56c04414eaa.jpeg\n",
      "d:/UNet-for-Colonoscopy-Polyp-Segmentation/unet_resnet152_prediction\\936de314f2d95e6c487ffa651b477422.jpeg\n",
      "d:/UNet-for-Colonoscopy-Polyp-Segmentation/unet_resnet152_prediction\\94a7f32574d6c748c41743c6c08a1d1a.jpeg\n",
      "d:/UNet-for-Colonoscopy-Polyp-Segmentation/unet_resnet152_prediction\\9632a3c6f7f7fb2a643f15bd0249ddcc.jpeg\n",
      "d:/UNet-for-Colonoscopy-Polyp-Segmentation/unet_resnet152_prediction\\97e1c0e9082ea2c193ac8d551c149b60.jpeg\n",
      "d:/UNet-for-Colonoscopy-Polyp-Segmentation/unet_resnet152_prediction\\98da48d679d7c7c8d3d96fb2b87fbbcf.jpeg\n",
      "d:/UNet-for-Colonoscopy-Polyp-Segmentation/unet_resnet152_prediction\\998906d3694abb47953b0e4909384b57.jpeg\n",
      "d:/UNet-for-Colonoscopy-Polyp-Segmentation/unet_resnet152_prediction\\9c7976c1182df0de51d32128c358d1fd.jpeg\n",
      "d:/UNet-for-Colonoscopy-Polyp-Segmentation/unet_resnet152_prediction\\9fc7330398846f67b5df7cdf3f33c3ca.jpeg\n",
      "d:/UNet-for-Colonoscopy-Polyp-Segmentation/unet_resnet152_prediction\\a15fc656702fa602bb3c7abacdbd7e6a.jpeg\n",
      "d:/UNet-for-Colonoscopy-Polyp-Segmentation/unet_resnet152_prediction\\a3657e4314fe384eb2ba3adfda6c1899.jpeg\n",
      "d:/UNet-for-Colonoscopy-Polyp-Segmentation/unet_resnet152_prediction\\a48847ae8395e56a6d9ba9d45c3dbc69.jpeg\n",
      "d:/UNet-for-Colonoscopy-Polyp-Segmentation/unet_resnet152_prediction\\a51625559c7e610b1531871f2fd85a04.jpeg\n",
      "d:/UNet-for-Colonoscopy-Polyp-Segmentation/unet_resnet152_prediction\\a6a4248a41e8db8b4ed633b456aaafac.jpeg\n",
      "d:/UNet-for-Colonoscopy-Polyp-Segmentation/unet_resnet152_prediction\\a6d9ba9d45c3dbc695325ded465efde9.jpeg\n",
      "d:/UNet-for-Colonoscopy-Polyp-Segmentation/unet_resnet152_prediction\\a6e51d077bad31c8c5f54ffaa27a6235.jpeg\n",
      "d:/UNet-for-Colonoscopy-Polyp-Segmentation/unet_resnet152_prediction\\a9d45c3dbc695325ded465efde988dfb.jpeg\n",
      "d:/UNet-for-Colonoscopy-Polyp-Segmentation/unet_resnet152_prediction\\aafac813fe3ccba3e032dd2948a80c64.jpeg\n",
      "d:/UNet-for-Colonoscopy-Polyp-Segmentation/unet_resnet152_prediction\\ad43fe2cd066b9fdbc3bbc04a3afe1f1.jpeg\n",
      "d:/UNet-for-Colonoscopy-Polyp-Segmentation/unet_resnet152_prediction\\aeeb2b535797395305af926a6f23c5d6.jpeg\n",
      "d:/UNet-for-Colonoscopy-Polyp-Segmentation/unet_resnet152_prediction\\af35b65bd9ea42cfcfedb5eb2a0e4b50.jpeg\n",
      "d:/UNet-for-Colonoscopy-Polyp-Segmentation/unet_resnet152_prediction\\afe1f119f21b248d152b672ab3492fc6.jpeg\n",
      "d:/UNet-for-Colonoscopy-Polyp-Segmentation/unet_resnet152_prediction\\b21960c94b0aab4c024a573c692195f8.jpeg\n",
      "d:/UNet-for-Colonoscopy-Polyp-Segmentation/unet_resnet152_prediction\\b70dd094a7f32574d6c748c41743c6c0.jpeg\n",
      "d:/UNet-for-Colonoscopy-Polyp-Segmentation/unet_resnet152_prediction\\be4d18d5401f659532897255ce2dd4ae.jpeg\n",
      "d:/UNet-for-Colonoscopy-Polyp-Segmentation/unet_resnet152_prediction\\be86f03d900fd197cd955fa095f97845.jpeg\n",
      "d:/UNet-for-Colonoscopy-Polyp-Segmentation/unet_resnet152_prediction\\bec33b5e3d68f9d4c331587f9b9d49e2.jpeg\n",
      "d:/UNet-for-Colonoscopy-Polyp-Segmentation/unet_resnet152_prediction\\c193ac8d551c149b60f2965341caf528.jpeg\n",
      "d:/UNet-for-Colonoscopy-Polyp-Segmentation/unet_resnet152_prediction\\c22268d4b4ef4d95ceea11957998906d.jpeg\n",
      "d:/UNet-for-Colonoscopy-Polyp-Segmentation/unet_resnet152_prediction\\c41545ba55aadaa77712a48e11d579d9.jpeg\n",
      "d:/UNet-for-Colonoscopy-Polyp-Segmentation/unet_resnet152_prediction\\c4be73749a0d21db70dd094a7f32574d.jpeg\n",
      "d:/UNet-for-Colonoscopy-Polyp-Segmentation/unet_resnet152_prediction\\c5a0808bee60b246359c68c836f843dc.jpeg\n",
      "d:/UNet-for-Colonoscopy-Polyp-Segmentation/unet_resnet152_prediction\\c656702fa602bb3c7abacdbd7e6afd56.jpeg\n",
      "d:/UNet-for-Colonoscopy-Polyp-Segmentation/unet_resnet152_prediction\\c695325ded465efde988dfb96d081533.jpeg\n",
      "d:/UNet-for-Colonoscopy-Polyp-Segmentation/unet_resnet152_prediction\\c7e610b1531871f2fd85a04faeeb2b53.jpeg\n",
      "d:/UNet-for-Colonoscopy-Polyp-Segmentation/unet_resnet152_prediction\\ca4d5060a633a8d5b2b2b55157b7781e.jpeg\n",
      "d:/UNet-for-Colonoscopy-Polyp-Segmentation/unet_resnet152_prediction\\cb1b387133b51209db6dcdda5cc8a788.jpeg\n",
      "d:/UNet-for-Colonoscopy-Polyp-Segmentation/unet_resnet152_prediction\\cb2eb1ef57af2ed9fbb63b28163a7459.jpeg\n",
      "d:/UNet-for-Colonoscopy-Polyp-Segmentation/unet_resnet152_prediction\\cbb2a365b5574868eb60861ee1ff0b8a.jpeg\n",
      "d:/UNet-for-Colonoscopy-Polyp-Segmentation/unet_resnet152_prediction\\cc5cfd263f1f90be28799235026b3550.jpeg\n",
      "d:/UNet-for-Colonoscopy-Polyp-Segmentation/unet_resnet152_prediction\\cdf3f33c3ca4d5060a633a8d5b2b2b55.jpeg\n",
      "d:/UNet-for-Colonoscopy-Polyp-Segmentation/unet_resnet152_prediction\\cf464aa36bf7c09a3bb0e5ca159410b9.jpeg\n",
      "d:/UNet-for-Colonoscopy-Polyp-Segmentation/unet_resnet152_prediction\\cf6644589e532a9ee954f81faedbce39.jpeg\n",
      "d:/UNet-for-Colonoscopy-Polyp-Segmentation/unet_resnet152_prediction\\d077bad31c8c5f54ffaa27a623511c38.jpeg\n",
      "d:/UNet-for-Colonoscopy-Polyp-Segmentation/unet_resnet152_prediction\\d3694abb47953b0e4909384b57bb6a05.jpeg\n",
      "d:/UNet-for-Colonoscopy-Polyp-Segmentation/unet_resnet152_prediction\\d5060a633a8d5b2b2b55157b7781e2c7.jpeg\n",
      "d:/UNet-for-Colonoscopy-Polyp-Segmentation/unet_resnet152_prediction\\d6240619ebebe9e9c9d00a4262b4fe4a.jpeg\n",
      "d:/UNet-for-Colonoscopy-Polyp-Segmentation/unet_resnet152_prediction\\d694539ef2424a9218697283baa3657e.jpeg\n",
      "d:/UNet-for-Colonoscopy-Polyp-Segmentation/unet_resnet152_prediction\\d6bf62f215f0da4ad3a7ab8df9da7386.jpeg\n",
      "d:/UNet-for-Colonoscopy-Polyp-Segmentation/unet_resnet152_prediction\\db5eb2a0e4b50889d874c68c030b9afe.jpeg\n",
      "d:/UNet-for-Colonoscopy-Polyp-Segmentation/unet_resnet152_prediction\\dc0bb223c4eaf3372eae567c94ea04c6.jpeg\n",
      "d:/UNet-for-Colonoscopy-Polyp-Segmentation/unet_resnet152_prediction\\dc70626ab4ec3d46e602b296cc5cfd26.jpeg\n",
      "d:/UNet-for-Colonoscopy-Polyp-Segmentation/unet_resnet152_prediction\\dd094a7f32574d6c748c41743c6c08a1.jpeg\n",
      "d:/UNet-for-Colonoscopy-Polyp-Segmentation/unet_resnet152_prediction\\dd78294679c9cbb2a365b5574868eb60.jpeg\n",
      "d:/UNet-for-Colonoscopy-Polyp-Segmentation/unet_resnet152_prediction\\df366e057db382b8564872a27301a654.jpeg\n",
      "d:/UNet-for-Colonoscopy-Polyp-Segmentation/unet_resnet152_prediction\\df8e26031fbb5e52c41545ba55aadaa7.jpeg\n",
      "d:/UNet-for-Colonoscopy-Polyp-Segmentation/unet_resnet152_prediction\\e1797c77826f9a7021bab9fc73303988.jpeg\n",
      "d:/UNet-for-Colonoscopy-Polyp-Segmentation/unet_resnet152_prediction\\e19769fa2d37d32780fd497e1c0e9082.jpeg\n",
      "d:/UNet-for-Colonoscopy-Polyp-Segmentation/unet_resnet152_prediction\\e1e0ae936de314f2d95e6c487ffa651b.jpeg\n",
      "d:/UNet-for-Colonoscopy-Polyp-Segmentation/unet_resnet152_prediction\\e2cd066b9fdbc3bbc04a3afe1f119f21.jpeg\n",
      "d:/UNet-for-Colonoscopy-Polyp-Segmentation/unet_resnet152_prediction\\e3c84417fda8019410b1fcf0625f608b.jpeg\n",
      "d:/UNet-for-Colonoscopy-Polyp-Segmentation/unet_resnet152_prediction\\e4a17af18f72c8e6166a915669c99390.jpeg\n",
      "d:/UNet-for-Colonoscopy-Polyp-Segmentation/unet_resnet152_prediction\\e56a6d9ba9d45c3dbc695325ded465ef.jpeg\n",
      "d:/UNet-for-Colonoscopy-Polyp-Segmentation/unet_resnet152_prediction\\e5e8f14e1e0ae936de314f2d95e6c487.jpeg\n",
      "d:/UNet-for-Colonoscopy-Polyp-Segmentation/unet_resnet152_prediction\\e73749a0d21db70dd094a7f32574d6c7.jpeg\n",
      "d:/UNet-for-Colonoscopy-Polyp-Segmentation/unet_resnet152_prediction\\e7998934d417cb2eb1ef57af2ed9fbb6.jpeg\n",
      "d:/UNet-for-Colonoscopy-Polyp-Segmentation/unet_resnet152_prediction\\e8bfb905b78a91391adc0bb223c4eaf3.jpeg\n",
      "d:/UNet-for-Colonoscopy-Polyp-Segmentation/unet_resnet152_prediction\\e9082ea2c193ac8d551c149b60f29653.jpeg\n",
      "d:/UNet-for-Colonoscopy-Polyp-Segmentation/unet_resnet152_prediction\\ea42b4eebc9e5a87e443434ac60af150.jpeg\n",
      "d:/UNet-for-Colonoscopy-Polyp-Segmentation/unet_resnet152_prediction\\eb1ef57af2ed9fbb63b28163a745959c.jpeg\n",
      "d:/UNet-for-Colonoscopy-Polyp-Segmentation/unet_resnet152_prediction\\eecd70ebce6347c491b37c8c2e5a64a8.jpeg\n",
      "d:/UNet-for-Colonoscopy-Polyp-Segmentation/unet_resnet152_prediction\\eff05dec1eb3a70b145a7d8d3b6c0ed7.jpeg\n",
      "d:/UNet-for-Colonoscopy-Polyp-Segmentation/unet_resnet152_prediction\\f13dd311a65d2b46d0a6085835c525af.jpeg\n",
      "d:/UNet-for-Colonoscopy-Polyp-Segmentation/unet_resnet152_prediction\\f14e1e0ae936de314f2d95e6c487ffa6.jpeg\n",
      "d:/UNet-for-Colonoscopy-Polyp-Segmentation/unet_resnet152_prediction\\f62f215f0da4ad3a7ab8df9da7386835.jpeg\n",
      "d:/UNet-for-Colonoscopy-Polyp-Segmentation/unet_resnet152_prediction\\f7fdb2d45b21960c94b0aab4c024a573.jpeg\n",
      "d:/UNet-for-Colonoscopy-Polyp-Segmentation/unet_resnet152_prediction\\f8e26031fbb5e52c41545ba55aadaa77.jpeg\n",
      "d:/UNet-for-Colonoscopy-Polyp-Segmentation/unet_resnet152_prediction\\f8e5ad89d2844837f2a0f1536ad3f6a5.jpeg\n",
      "d:/UNet-for-Colonoscopy-Polyp-Segmentation/unet_resnet152_prediction\\faef7fdb2d45b21960c94b0aab4c024a.jpeg\n",
      "d:/UNet-for-Colonoscopy-Polyp-Segmentation/unet_resnet152_prediction\\fb905b78a91391adc0bb223c4eaf3372.jpeg\n",
      "d:/UNet-for-Colonoscopy-Polyp-Segmentation/unet_resnet152_prediction\\fcd6da15fc656702fa602bb3c7abacdb.jpeg\n",
      "d:/UNet-for-Colonoscopy-Polyp-Segmentation/unet_resnet152_prediction\\fdbc3bbc04a3afe1f119f21b248d152b.jpeg\n",
      "d:/UNet-for-Colonoscopy-Polyp-Segmentation/unet_resnet152_prediction\\fe1f119f21b248d152b672ab3492fc62.jpeg\n",
      "d:/UNet-for-Colonoscopy-Polyp-Segmentation/unet_resnet152_prediction\\ff05dec1eb3a70b145a7d8d3b6c0ed75.jpeg\n",
      "d:/UNet-for-Colonoscopy-Polyp-Segmentation/unet_resnet152_prediction\\ff55177a34fc01019eec999fd84e679b.jpeg\n"
     ]
    }
   ],
   "source": [
    "dir = MASK_DIR_PATH\n",
    "res = mask2string(dir)\n",
    "df = pd.DataFrame(columns=['Id', 'Expected'])\n",
    "df['Id'] = res['ids']\n",
    "df['Expected'] = res['strings']\n",
    "df.to_csv(SUBMISSION_PATH, index=False)"
   ]
  }
 ],
 "metadata": {
  "kernelspec": {
   "display_name": "Python 3",
   "language": "python",
   "name": "python3"
  },
  "language_info": {
   "codemirror_mode": {
    "name": "ipython",
    "version": 3
   },
   "file_extension": ".py",
   "mimetype": "text/x-python",
   "name": "python",
   "nbconvert_exporter": "python",
   "pygments_lexer": "ipython3",
   "version": "3.11.9"
  }
 },
 "nbformat": 4,
 "nbformat_minor": 2
}
